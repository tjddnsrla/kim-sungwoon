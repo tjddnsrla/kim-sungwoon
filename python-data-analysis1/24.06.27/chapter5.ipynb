{
 "cells": [
  {
   "cell_type": "code",
   "execution_count": 1,
   "metadata": {},
   "outputs": [],
   "source": [
    "#(!)pip install numpy"
   ]
  },
  {
   "cell_type": "code",
   "execution_count": 1,
   "metadata": {},
   "outputs": [
    {
     "name": "stdout",
     "output_type": "stream",
     "text": [
      "[[2 3]\n",
      " [5 2]]\n",
      "<class 'numpy.ndarray'>\n",
      "[[2, 3], [5, 2]]\n",
      "<class 'list'>\n"
     ]
    }
   ],
   "source": [
    "import numpy as np  # 넘파이를 사용할 때 np라는 이름으로 많이 사용(관례) \n",
    "\n",
    "# numpy로 2차원 배열 만들기\n",
    "a = np.array([[2, 3], [5, 2]]) \n",
    "print(a) \n",
    "print(type(a)) \n",
    "\n",
    "# 이중화 리스트 만들기 \n",
    "a = [[2, 3], [5, 2]]\n",
    "print(a) \n",
    "print(type(a))"
   ]
  },
  {
   "cell_type": "code",
   "execution_count": 2,
   "metadata": {},
   "outputs": [
    {
     "name": "stdout",
     "output_type": "stream",
     "text": [
      "2\n",
      "[[6 7]\n",
      " [9 9]]\n"
     ]
    }
   ],
   "source": [
    "# 넘파이 배열 슬라이싱 하기 -> 리스트 슬라이싱과 같음\n",
    "d = np.array([[1,2,3,4,5], [2,4,5,6,7], [5,7,8,9,9]]) #\n",
    "print(d[0][1])   # 2\n",
    "print(d[1:, 3:]) # 2행과 3열까지의 모든 배열을 가지고 온다 "
   ]
  },
  {
   "cell_type": "code",
   "execution_count": 21,
   "metadata": {},
   "outputs": [
    {
     "name": "stdout",
     "output_type": "stream",
     "text": [
      "(5,)\n",
      "(2, 4)\n"
     ]
    },
    {
     "ename": "ValueError",
     "evalue": "setting an array element with a sequence. The requested array has an inhomogeneous shape after 1 dimensions. The detected shape was (2,) + inhomogeneous part.",
     "output_type": "error",
     "traceback": [
      "\u001b[1;31m---------------------------------------------------------------------------\u001b[0m",
      "\u001b[1;31mValueError\u001b[0m                                Traceback (most recent call last)",
      "Cell \u001b[1;32mIn[21], line 6\u001b[0m\n\u001b[0;32m      4\u001b[0m e \u001b[38;5;241m=\u001b[39m np\u001b[38;5;241m.\u001b[39marray([[\u001b[38;5;241m1\u001b[39m,\u001b[38;5;241m2\u001b[39m,\u001b[38;5;241m3\u001b[39m,\u001b[38;5;241m4\u001b[39m], [\u001b[38;5;241m3\u001b[39m,\u001b[38;5;241m4\u001b[39m,\u001b[38;5;241m5\u001b[39m,\u001b[38;5;241m6\u001b[39m]])\n\u001b[0;32m      5\u001b[0m \u001b[38;5;28mprint\u001b[39m(e\u001b[38;5;241m.\u001b[39mshape)  \u001b[38;5;66;03m# (2, 4)\u001b[39;00m\n\u001b[1;32m----> 6\u001b[0m f \u001b[38;5;241m=\u001b[39m \u001b[43mnp\u001b[49m\u001b[38;5;241;43m.\u001b[39;49m\u001b[43marray\u001b[49m\u001b[43m(\u001b[49m\u001b[43m[\u001b[49m\u001b[43m[\u001b[49m\u001b[38;5;241;43m0.1\u001b[39;49m\u001b[43m,\u001b[49m\u001b[43m \u001b[49m\u001b[38;5;241;43m0.2\u001b[39;49m\u001b[43m,\u001b[49m\u001b[43m \u001b[49m\u001b[38;5;241;43m0\u001b[39;49m\u001b[43m,\u001b[49m\u001b[38;5;241;43m3\u001b[39;49m\u001b[43m]\u001b[49m\u001b[43m,\u001b[49m\u001b[43m \u001b[49m\u001b[43m[\u001b[49m\u001b[38;5;241;43m.2\u001b[39;49m\u001b[43m,\u001b[49m\u001b[43m \u001b[49m\u001b[38;5;241;43m.3\u001b[39;49m\u001b[43m,\u001b[49m\u001b[43m \u001b[49m\u001b[38;5;241;43m.4\u001b[39;49m\u001b[43m,\u001b[49m\u001b[43m]\u001b[49m\u001b[43m]\u001b[49m\u001b[43m)\u001b[49m\n\u001b[0;32m      7\u001b[0m \u001b[38;5;28mprint\u001b[39m(f\u001b[38;5;241m.\u001b[39mshape)  \u001b[38;5;66;03m# (2, 3)\u001b[39;00m\n",
      "\u001b[1;31mValueError\u001b[0m: setting an array element with a sequence. The requested array has an inhomogeneous shape after 1 dimensions. The detected shape was (2,) + inhomogeneous part."
     ]
    }
   ],
   "source": [
    "# 배열의 크기 알아내는 shape\n",
    "d = np.array([2,3,4,5,6]) \n",
    "print(d.shape)  # (5,)\n",
    "e = np.array([[1,2,3,4], [3,4,5,6]])\n",
    "print(e.shape)  # (2, 4)\n",
    "f = np.array([[0.1, 0.2, 0,3], [.2, .3, .4,]])\n",
    "print(f.shape)  # (2, 3)"
   ]
  },
  {
   "cell_type": "code",
   "execution_count": 22,
   "metadata": {},
   "outputs": [
    {
     "name": "stdout",
     "output_type": "stream",
     "text": [
      "int32\n",
      "int32\n"
     ]
    },
    {
     "ename": "NameError",
     "evalue": "name 'f' is not defined",
     "output_type": "error",
     "traceback": [
      "\u001b[1;31m---------------------------------------------------------------------------\u001b[0m",
      "\u001b[1;31mNameError\u001b[0m                                 Traceback (most recent call last)",
      "Cell \u001b[1;32mIn[22], line 4\u001b[0m\n\u001b[0;32m      2\u001b[0m \u001b[38;5;28mprint\u001b[39m(d\u001b[38;5;241m.\u001b[39mdtype)\n\u001b[0;32m      3\u001b[0m \u001b[38;5;28mprint\u001b[39m(e\u001b[38;5;241m.\u001b[39mdtype)\n\u001b[1;32m----> 4\u001b[0m \u001b[38;5;28mprint\u001b[39m(\u001b[43mf\u001b[49m\u001b[38;5;241m.\u001b[39mdtype)\n",
      "\u001b[1;31mNameError\u001b[0m: name 'f' is not defined"
     ]
    }
   ],
   "source": [
    "# 배열의 원소 유형 확인하는 dtype\n",
    "print(d.dtype)\n",
    "print(e.dtype)\n",
    "print(f.dtype)"
   ]
  },
  {
   "cell_type": "code",
   "execution_count": 5,
   "metadata": {},
   "outputs": [
    {
     "name": "stdout",
     "output_type": "stream",
     "text": [
      "[1 2 3 4]\n",
      "int32\n",
      "[1. 2. 3. 4.]\n",
      "[1 2 3 4]\n"
     ]
    }
   ],
   "source": [
    "# 배열의 유형 바꾸는 astype함수\n",
    "data = np.arange(1, 5) # 1~4까지 이루어지는 배열 생성\n",
    "print(data) \n",
    "print(data.dtype) \n",
    "print(data.astype('float64')) # 기존 int32로 된 원소들을 float64 타입으로 변경\n",
    "print(data.astype('int32'))  "
   ]
  },
  {
   "cell_type": "code",
   "execution_count": 6,
   "metadata": {},
   "outputs": [
    {
     "name": "stdout",
     "output_type": "stream",
     "text": [
      "[[0. 0. 0. 0. 0. 0. 0. 0. 0. 0.]\n",
      " [0. 0. 0. 0. 0. 0. 0. 0. 0. 0.]]\n"
     ]
    }
   ],
   "source": [
    "# 0으로 이뤄진 배열 만드는 zeros함수\n",
    "h = np.zeros((2, 10)) # 2*10배열의 1로 채워짐\n",
    "print(h) "
   ]
  },
  {
   "cell_type": "code",
   "execution_count": 7,
   "metadata": {},
   "outputs": [
    {
     "name": "stdout",
     "output_type": "stream",
     "text": [
      "[[1. 1. 1. 1. 1. 1. 1. 1. 1. 1.]\n",
      " [1. 1. 1. 1. 1. 1. 1. 1. 1. 1.]]\n"
     ]
    }
   ],
   "source": [
    "# 1로 이뤄진 배열 만드는 ones함수 \n",
    "h = np.ones((2, 10))  # 2*1배열의 1로 채워짐\n",
    "print(h) "
   ]
  },
  {
   "cell_type": "code",
   "execution_count": 8,
   "metadata": {},
   "outputs": [
    {
     "data": {
      "text/plain": [
       "array([2, 3, 4, 5, 6, 7, 8, 9])"
      ]
     },
     "execution_count": 8,
     "metadata": {},
     "output_type": "execute_result"
    }
   ],
   "source": [
    "# 연속형 정수 생성하는 arrange 함수\n",
    "np.arange(2, 10) # 2~9까지 이루어지는 배열 생성"
   ]
  },
  {
   "cell_type": "code",
   "execution_count": 9,
   "metadata": {},
   "outputs": [
    {
     "name": "stdout",
     "output_type": "stream",
     "text": [
      "[[1. 1. 1.]\n",
      " [1. 1. 1.]]\n",
      "[[1. 1.]\n",
      " [1. 1.]\n",
      " [1. 1.]]\n"
     ]
    }
   ],
   "source": [
    "# 행과 열을 바꿔주는 transpose함수\n",
    "a = np.ones((2,3))\n",
    "print(a)   # 2*3\n",
    "b = np. transpose(a) \n",
    "print(b)   # 3*2"
   ]
  },
  {
   "cell_type": "code",
   "execution_count": 10,
   "metadata": {},
   "outputs": [
    {
     "name": "stdout",
     "output_type": "stream",
     "text": [
      "[[14 26 18]\n",
      " [42 54 66]]\n",
      "[[ 24  69  56]\n",
      " [216 329 464]]\n",
      "[[-10 -20 -10]\n",
      " [-30 -40 -50]]\n",
      "[[0.16666667 0.13043478 0.28571429]\n",
      " [0.16666667 0.14893617 0.13793103]]\n"
     ]
    }
   ],
   "source": [
    "# 배열의 사칙연산(+,-,*,/)\n",
    "# (1) 배열의 크기와 차원이 같은 경우\n",
    "arr1 = np.array([[2,3,4], [6,7,8]])\n",
    "arr2 = np.array([[12,23,14], [36,47,58]])\n",
    "\n",
    "print(arr1 + arr2)\n",
    "print(arr1 * arr2)\n",
    "print(arr1 - arr2)\n",
    "print(arr1 / arr2)"
   ]
  },
  {
   "cell_type": "code",
   "execution_count": 11,
   "metadata": {},
   "outputs": [
    {
     "name": "stdout",
     "output_type": "stream",
     "text": [
      "[[102 203 304]\n",
      " [106 207 308]]\n",
      "[[11 12 13]\n",
      " [ 9 10 11]]\n"
     ]
    }
   ],
   "source": [
    "# (2) 배열의 차원이 다른 경우\n",
    "arr3 = np.array([100, 200, 300])  # 1차원 배열(3개의 열(1x3))\n",
    "print(arr1 + arr3) # 브로드캐스팅 되는 경우 == [[2,3,4], [6,7,8]] + [[100,200,300], [100,200,300]]\n",
    "\n",
    "# 브로드 캐스팅이 안되는 경우\n",
    "# arr4 = np.array([1,2,3,4,5,6,7,8,9,10]) # 1차원 배열(10개의 열)\n",
    "# print(arr1 + arr4)\n",
    "\n",
    "arr5 = np.array([[9],[3]])   # 2차원 배열(2x1)\n",
    "# arr1은 2차원 2x3 배열\n",
    "print(arr1 + arr5)  # [[2,3,4], [6,7,8]] + [[9],[3]]"
   ]
  },
  {
   "cell_type": "code",
   "execution_count": 12,
   "metadata": {},
   "outputs": [
    {
     "name": "stdout",
     "output_type": "stream",
     "text": [
      "[[0 0 0 0]\n",
      " [0 0 0 0]\n",
      " [3 4 5 6]]\n"
     ]
    }
   ],
   "source": [
    "d_list = [[1,2,3,4], [2,3,4,5], [3,4,5,6]]\n",
    "# d_list 리스트 자료형에서 2행부터 전부 0으로 초기화\n",
    "# d_list[:2] = 0  # 리스트 자료형에서는 0으로 쉽게 대입이 불가능\n",
    "d = np.array(d_list)\n",
    "d[:2] = 0\n",
    "print(d)"
   ]
  },
  {
   "cell_type": "code",
   "execution_count": 1,
   "metadata": {},
   "outputs": [
    {
     "name": "stdout",
     "output_type": "stream",
     "text": [
      "c:\\Users\\human-01\\python-data-analysis1\\24.06.27\n",
      "<class 'list'>\n",
      "<class 'str'>\n",
      "<class 'float'>\n",
      "[[1. 2. 1. 2. 2.]\n",
      " [1. 3. 2. 3. 2.]\n",
      " [1. 4. 3. 3. 3.]\n",
      " [2. 5. 4. 4. 4.]\n",
      " [2. 5. 6. 2. 5.]\n",
      " [3. 6. 4. 2. 5.]\n",
      " [3. 5. 4. 1. 6.]\n",
      " [3. 5. 5. 1. 3.]]\n",
      "[[False False False False False]\n",
      " [False False False False False]\n",
      " [False False False False False]\n",
      " [False False False False False]\n",
      " [False False  True False False]\n",
      " [False  True False False False]\n",
      " [False False False False  True]\n",
      " [False False False False False]]\n",
      "[6. 6. 6.]\n",
      "[[1. 2. 1. 2. 2.]\n",
      " [1. 3. 2. 3. 2.]\n",
      " [1. 4. 3. 3. 3.]\n",
      " [2. 5. 4. 4. 4.]\n",
      " [2. 5. 5. 2. 5.]\n",
      " [3. 5. 4. 2. 5.]\n",
      " [3. 5. 4. 1. 5.]\n",
      " [3. 5. 5. 1. 3.]]\n"
     ]
    }
   ],
   "source": [
    "# 설문지 데이터(quest.csv) 전처리하기\n",
    "import os, usecsv\n",
    "import numpy as np\n",
    "\n",
    "print(os.getcwd())\n",
    "os.chdir(r'c:\\Users\\human-01\\python-data-analysis1\\24.06.27')\n",
    "\n",
    "quest_csv = usecsv.opencsv('quest.csv') # quest.csv파일 read\n",
    "print(type(quest_csv))                  # list\n",
    "print(type(quest_csv[0][0]))            # str\n",
    "\n",
    "quest_csv = usecsv.switch(quest_csv)\n",
    "print(type(quest_csv[0][0]))            # float\n",
    "\n",
    "quest_np = np.array(quest_csv)          # numpy객체로 변경\n",
    "print(quest_np)\n",
    "\n",
    "print(quest_np > 5) # 넘파이 객체의 원소에서 5보다 큰 원소들의 값은 True로 변경하고 아니면 False\n",
    "print(quest_np[quest_np > 5])  # quest_up의 인덱싱을 활용해서 5보다 큰 수만 가져오기\n",
    "# print(quest_np)\n",
    "\n",
    "# quest_np2 = quest_np > 5\n",
    "# print(quest_np[quest_np2])\n",
    "\n",
    "quest_np[quest_np > 5] = 5     # quest_up 5보다 큰 값들은 5로 세팅\n",
    "print(quest_np)\n",
    "\n",
    "# csv파일로 output하기\n",
    "usecsv.writecsv('quest_resultcsv.csv', quest_np.astype('int32'))"
   ]
  },
  {
   "cell_type": "code",
   "execution_count": 4,
   "metadata": {},
   "outputs": [],
   "source": [
    "discount = .05    # 할인율 5%\n",
    "cashflow = 100    # 단위는 억"
   ]
  },
  {
   "cell_type": "code",
   "execution_count": 5,
   "metadata": {},
   "outputs": [],
   "source": [
    "# 자본의 현재가치 구하는 함수 -> n이 커질수록(사업기간이 길면 길수록 현재가치는 떨어짐)\n",
    "def present_value(n):   # n은 연차(총 사업기간(년))\n",
    "    return cashflow / ((1 + discount) ** n)"
   ]
  },
  {
   "cell_type": "code",
   "execution_count": 6,
   "metadata": {},
   "outputs": [
    {
     "name": "stdout",
     "output_type": "stream",
     "text": [
      "95.23809523809524\n",
      "90.70294784580499\n"
     ]
    }
   ],
   "source": [
    "print(present_value(1))\n",
    "print(present_value(2))"
   ]
  },
  {
   "cell_type": "code",
   "execution_count": 7,
   "metadata": {},
   "outputs": [
    {
     "name": "stdout",
     "output_type": "stream",
     "text": [
      "Requirement already satisfied: numpy_financial in c:\\users\\human-01\\anaconda3\\lib\\site-packages (1.0.0)\n",
      "Requirement already satisfied: numpy>=1.15 in c:\\users\\human-01\\anaconda3\\lib\\site-packages (from numpy_financial) (1.26.4)\n"
     ]
    }
   ],
   "source": [
    "# 놀이공원 사업의 사업성 분석(필요 패키지는 numpy_financial)\n",
    "!pip install numpy_financial"
   ]
  },
  {
   "cell_type": "code",
   "execution_count": 8,
   "metadata": {},
   "outputs": [
    {
     "name": "stdout",
     "output_type": "stream",
     "text": [
      "[100, 100, 100, 100, 100, 100, 100, 100, 100, 100]\n",
      "[-750, 100, 100, 100, 100, 100, 100, 100, 100, 100, 100]\n",
      "41.27181771101688\n",
      "0.05604463645158875\n"
     ]
    }
   ],
   "source": [
    "loss = [-750]         # 단위는 억 원\n",
    "profit = [100] * 10   # 단위는 억 원\n",
    "print(profit)\n",
    "\n",
    "cf = loss + profit # 리스트끼리의 '+'는 insert or append개념\n",
    "print(cf)\n",
    "\n",
    "cashflow = np.array(cf)\n",
    "\n",
    "import numpy_financial as npf  # 순현재가치와 내부수익률 함수를 사용하기 위한 파이썬 패키지 로드\n",
    "\n",
    "# npf.npv(할인률, 현금흐름) -> 순현재가치(npv)\n",
    "# npf.irr(현금흐름) -> 내부수익률(irr)\n",
    "\n",
    "# 여기서 할인률은 4.5%으로 가정하고 계산\n",
    "npv = npf.npv(0.045, cashflow) \n",
    "irr = npf.irr(cashflow) \n",
    "\n",
    "print(npv) # 순현재가치는 41.3억원\n",
    "print(irr) # 내부수익률 5.6%\n"
   ]
  },
  {
   "cell_type": "code",
   "execution_count": 9,
   "metadata": {},
   "outputs": [
    {
     "data": {
      "text/html": [
       "<div>\n",
       "<style scoped>\n",
       "    .dataframe tbody tr th:only-of-type {\n",
       "        vertical-align: middle;\n",
       "    }\n",
       "\n",
       "    .dataframe tbody tr th {\n",
       "        vertical-align: top;\n",
       "    }\n",
       "\n",
       "    .dataframe thead th {\n",
       "        text-align: right;\n",
       "    }\n",
       "</style>\n",
       "<table border=\"1\" class=\"dataframe\">\n",
       "  <thead>\n",
       "    <tr style=\"text-align: right;\">\n",
       "      <th></th>\n",
       "      <th>name</th>\n",
       "      <th>age</th>\n",
       "      <th>score</th>\n",
       "    </tr>\n",
       "  </thead>\n",
       "  <tbody>\n",
       "    <tr>\n",
       "      <th>0</th>\n",
       "      <td>Mark</td>\n",
       "      <td>33</td>\n",
       "      <td>91.3</td>\n",
       "    </tr>\n",
       "    <tr>\n",
       "      <th>1</th>\n",
       "      <td>Jane</td>\n",
       "      <td>32</td>\n",
       "      <td>83.4</td>\n",
       "    </tr>\n",
       "    <tr>\n",
       "      <th>2</th>\n",
       "      <td>Chris</td>\n",
       "      <td>44</td>\n",
       "      <td>77.5</td>\n",
       "    </tr>\n",
       "    <tr>\n",
       "      <th>3</th>\n",
       "      <td>Ryan</td>\n",
       "      <td>42</td>\n",
       "      <td>87.7</td>\n",
       "    </tr>\n",
       "  </tbody>\n",
       "</table>\n",
       "</div>"
      ],
      "text/plain": [
       "    name  age  score\n",
       "0   Mark   33   91.3\n",
       "1   Jane   32   83.4\n",
       "2  Chris   44   77.5\n",
       "3   Ryan   42   87.7"
      ]
     },
     "execution_count": 9,
     "metadata": {},
     "output_type": "execute_result"
    }
   ],
   "source": [
    "# 판다스(pandas)의 데이터프레임 사용하기\n",
    "import pandas as pd\n",
    "\n",
    "# 임의의 딕셔너리 데이터\n",
    "pandas = { \n",
    "    'name': ['Mark', 'Jane', 'Chris', 'Ryan'], \n",
    "    'age': [33, 32, 44, 42], \n",
    "    'score': [91.3, 83.4, 77.5, 87.7],\n",
    "}\n",
    "df = pd.DataFrame(pandas)\n",
    "df"
   ]
  },
  {
   "cell_type": "code",
   "execution_count": 10,
   "metadata": {},
   "outputs": [
    {
     "name": "stdout",
     "output_type": "stream",
     "text": [
      "name     MarkJaneChrisRyan\n",
      "age                    151\n",
      "score                339.9\n",
      "dtype: object\n",
      "age      37.750\n",
      "score    84.975\n",
      "dtype: float64\n",
      "name     Chris\n",
      "age         32\n",
      "score     77.5\n",
      "dtype: object\n"
     ]
    }
   ],
   "source": [
    "# 판다스 데이터 프레임 사용 함수들\n",
    "# (1) sum함수 -> 합계 구하기\n",
    "print(df.sum())\n",
    "# (2) mean함수 -> 평균 구하기\n",
    "print(df.mean(numeric_only=True)) # 'name'속성은 mean함수에서 제외\n",
    "# (3) min, max함수 -> 가장 작은 혹은 큰 값의 데이터를 보여주기\n",
    "print(df.min())"
   ]
  },
  {
   "cell_type": "code",
   "execution_count": 11,
   "metadata": {},
   "outputs": [
    {
     "name": "stdout",
     "output_type": "stream",
     "text": [
      "0    33\n",
      "1    32\n",
      "2    44\n",
      "3    42\n",
      "Name: age, dtype: int64\n",
      "0    33\n",
      "1    32\n",
      "2    44\n",
      "3    42\n",
      "Name: age, dtype: int64 0    91.3\n",
      "1    83.4\n",
      "2    77.5\n",
      "3    87.7\n",
      "Name: score, dtype: float64\n"
     ]
    }
   ],
   "source": [
    "print(df.age)    # age의 데이터 출력\n",
    "print(df['age'], df['score']) # age, score의 데이터 출력 "
   ]
  },
  {
   "cell_type": "code",
   "execution_count": 12,
   "metadata": {},
   "outputs": [
    {
     "name": "stdout",
     "output_type": "stream",
     "text": [
      "26509\n",
      "                   시군구     번지    본번  부번            단지명    전용면적    계약년월  계약일  \\\n",
      "0      강원특별자치도 강릉시 견소동    202   202   0           송정한신  59.800  202308    8   \n",
      "1      강원특별자치도 강릉시 견소동    202   202   0           송정한신  84.945  202308   14   \n",
      "2      강원특별자치도 강릉시 견소동    202   202   0           송정한신  43.380  202308   30   \n",
      "3      강원특별자치도 강릉시 견소동    289   289   0   송정해변신도브래뉴아파트  59.990  202308   19   \n",
      "4      강원특별자치도 강릉시 견소동    289   289   0   송정해변신도브래뉴아파트  84.990  202308   22   \n",
      "...                ...    ...   ...  ..            ...     ...     ...  ...   \n",
      "26504     충청북도 충주시 호암동   1063  1063   0  충주호암두진하트리움아파트  66.957  202308   16   \n",
      "26505     충청북도 충주시 호암동   1063  1063   0  충주호암두진하트리움아파트  84.803  202308   19   \n",
      "26506     충청북도 충주시 호암동  547-6   547   6           호반현대  84.960  202308   12   \n",
      "26507     충청북도 충주시 호암동  221-1   221   1     호암리버빌(2단지)  84.680  202308   10   \n",
      "26508     충청북도 충주시 호암동   1191  1191   0        호암힐데스하임  84.950  202308   21   \n",
      "\n",
      "        거래금액   층    건축년도           도로명  해제사유발생일 등기신청일자  거래유형  중개사소재지  \n",
      "0      23000   9  1997.0   경강로2539번길 8      NaN         중개거래     강릉시  \n",
      "1      31000  13  1997.0   경강로2539번길 8      NaN         중개거래     강릉시  \n",
      "2      16400  10  1997.0   경강로2539번길 8      NaN         중개거래     강릉시  \n",
      "3      24500   5  2005.0  경강로2539번길 23      NaN         중개거래     강릉시  \n",
      "4      28500   4  2005.0  경강로2539번길 22      NaN         중개거래     강릉시  \n",
      "...      ...  ..     ...           ...      ...    ...   ...     ...  \n",
      "26504  34100  15  2019.0     호암수청2로 78      NaN         중개거래  충북 충주시  \n",
      "26505  41000  12  2019.0     호암수청2로 78      NaN         중개거래  충북 충주시  \n",
      "26506  15700   2  1994.0       신촌2길 29      NaN         중개거래  충북 충주시  \n",
      "26507  20700   3  2002.0      호암중앙2로 5      NaN         중개거래  충북 충주시  \n",
      "26508  40200  11  2019.0      호암토성2로 1      NaN         중개거래  충북 충주시  \n",
      "\n",
      "[26509 rows x 16 columns]\n"
     ]
    }
   ],
   "source": [
    "# 아파트 실거래가 데이터들을 판다스 데이터프레임으로 처리 및 분석하기\n",
    "import pandas as pd\n",
    "import re\n",
    "\n",
    "# 판다스로 csv파일 불러오기\n",
    "df = pd.read_csv('apt2308.csv', thousands=',', encoding='utf-8')  # thousands는 구분자\n",
    "print(len(df))  # 데이터 행의 개수\n",
    "print(df)"
   ]
  },
  {
   "cell_type": "code",
   "execution_count": 13,
   "metadata": {},
   "outputs": [
    {
     "name": "stdout",
     "output_type": "stream",
     "text": [
      "               시군구   번지   본번  부번           단지명    전용면적    계약년월  계약일   거래금액  \\\n",
      "0  강원특별자치도 강릉시 견소동  202  202   0          송정한신  59.800  202308    8  23000   \n",
      "1  강원특별자치도 강릉시 견소동  202  202   0          송정한신  84.945  202308   14  31000   \n",
      "2  강원특별자치도 강릉시 견소동  202  202   0          송정한신  43.380  202308   30  16400   \n",
      "3  강원특별자치도 강릉시 견소동  289  289   0  송정해변신도브래뉴아파트  59.990  202308   19  24500   \n",
      "4  강원특별자치도 강릉시 견소동  289  289   0  송정해변신도브래뉴아파트  84.990  202308   22  28500   \n",
      "\n",
      "    층    건축년도           도로명  해제사유발생일 등기신청일자  거래유형 중개사소재지  \n",
      "0   9  1997.0   경강로2539번길 8      NaN         중개거래    강릉시  \n",
      "1  13  1997.0   경강로2539번길 8      NaN         중개거래    강릉시  \n",
      "2  10  1997.0   경강로2539번길 8      NaN         중개거래    강릉시  \n",
      "3   5  2005.0  경강로2539번길 23      NaN         중개거래    강릉시  \n",
      "4   4  2005.0  경강로2539번길 22      NaN         중개거래    강릉시  \n",
      "                시군구     번지    본번  부번            단지명    전용면적    계약년월  계약일  \\\n",
      "26504  충청북도 충주시 호암동   1063  1063   0  충주호암두진하트리움아파트  66.957  202308   16   \n",
      "26505  충청북도 충주시 호암동   1063  1063   0  충주호암두진하트리움아파트  84.803  202308   19   \n",
      "26506  충청북도 충주시 호암동  547-6   547   6           호반현대  84.960  202308   12   \n",
      "26507  충청북도 충주시 호암동  221-1   221   1     호암리버빌(2단지)  84.680  202308   10   \n",
      "26508  충청북도 충주시 호암동   1191  1191   0        호암힐데스하임  84.950  202308   21   \n",
      "\n",
      "        거래금액   층    건축년도        도로명  해제사유발생일 등기신청일자  거래유형  중개사소재지  \n",
      "26504  34100  15  2019.0  호암수청2로 78      NaN         중개거래  충북 충주시  \n",
      "26505  41000  12  2019.0  호암수청2로 78      NaN         중개거래  충북 충주시  \n",
      "26506  15700   2  1994.0    신촌2길 29      NaN         중개거래  충북 충주시  \n",
      "26507  20700   3  2002.0   호암중앙2로 5      NaN         중개거래  충북 충주시  \n",
      "26508  40200  11  2019.0   호암토성2로 1      NaN         중개거래  충북 충주시  \n"
     ]
    }
   ],
   "source": [
    "# 데이터 프레임에서 앞에서부터 5개의 행을 표시하기(만약 숫자를 넣게되면 숫자 개수만큼 출력)\n",
    "print(df.head()) # print(df.head(10))\n",
    "# 데이터 프레임에서 뒤에서부터 5개의 행을 표시하기(만약 숫자를 넣게되면 숫자 개수만큼 출력)\n",
    "print(df.tail()) # print(df.tail(10))"
   ]
  },
  {
   "cell_type": "code",
   "execution_count": 14,
   "metadata": {},
   "outputs": [
    {
     "data": {
      "text/plain": [
       "0        강원특별자치도 강릉시 견소동\n",
       "1        강원특별자치도 강릉시 견소동\n",
       "2        강원특별자치도 강릉시 견소동\n",
       "3        강원특별자치도 강릉시 견소동\n",
       "4        강원특별자치도 강릉시 견소동\n",
       "              ...       \n",
       "26504       충청북도 충주시 호암동\n",
       "26505       충청북도 충주시 호암동\n",
       "26506       충청북도 충주시 호암동\n",
       "26507       충청북도 충주시 호암동\n",
       "26508       충청북도 충주시 호암동\n",
       "Name: 시군구, Length: 26509, dtype: object"
      ]
     },
     "execution_count": 14,
     "metadata": {},
     "output_type": "execute_result"
    }
   ],
   "source": [
    "df.시군구\n",
    "df['시군구']"
   ]
  },
  {
   "cell_type": "code",
   "execution_count": 15,
   "metadata": {},
   "outputs": [
    {
     "name": "stdout",
     "output_type": "stream",
     "text": [
      "140       현대5차\n",
      "256       레이크뷰\n",
      "370      라이프타운\n",
      "392       현대3차\n",
      "407         두산\n",
      "         ...  \n",
      "25655       건영\n",
      "25657       건영\n",
      "25840       신라\n",
      "25891     세원홍실\n",
      "26016       동아\n",
      "Name: 단지명, Length: 74, dtype: object\n",
      "0                 송정한신\n",
      "2                 송정한신\n",
      "3         송정해변신도브래뉴아파트\n",
      "4         송정해변신도브래뉴아파트\n",
      "6          강릉교동롯데캐슬1단지\n",
      "             ...      \n",
      "26499               진도\n",
      "26500               진도\n",
      "26503    충주호암두진하트리움아파트\n",
      "26506             호반현대\n",
      "26507       호암리버빌(2단지)\n",
      "Name: 단지명, Length: 14054, dtype: object\n"
     ]
    }
   ],
   "source": [
    "# 판다스 데이터 프레임에서 조건별로 출력하기\n",
    "# 전용면적 값이 80이상인 것만 출력\n",
    "# print(df['전용면적'] > 80)\n",
    "# # 전용면적 값이 80이상인 것만의 데이터 프레임 출력\n",
    "# print(df[df['전용면적'] > 80])\n",
    "# # 전용면적 값이 80이상인 것만의 단지명만 출력\n",
    "# print(df['단지명'][df['전용면적'] > 80])\n",
    "# # 복합적인 조건으로 원하는 데이터만 출력하기(면적이 130m2가 넘고(and) 가격은 3억원 미만인 것만 출력)\n",
    "print(df['단지명'][(df['전용면적'] > 130) & (df['거래금액'] < 30000)])\n",
    "# # 복합적인 조건으로 원하는 데이터만 출력하기(면적이 130m2가 넘거나(or) 가격은 3억원 미만인 것 출력)\n",
    "print(df['단지명'][(df['전용면적'] > 130) | (df['거래금액'] < 30000)])"
   ]
  },
  {
   "cell_type": "code",
   "execution_count": 16,
   "metadata": {},
   "outputs": [
    {
     "data": {
      "text/html": [
       "<div>\n",
       "<style scoped>\n",
       "    .dataframe tbody tr th:only-of-type {\n",
       "        vertical-align: middle;\n",
       "    }\n",
       "\n",
       "    .dataframe tbody tr th {\n",
       "        vertical-align: top;\n",
       "    }\n",
       "\n",
       "    .dataframe thead th {\n",
       "        text-align: right;\n",
       "    }\n",
       "</style>\n",
       "<table border=\"1\" class=\"dataframe\">\n",
       "  <thead>\n",
       "    <tr style=\"text-align: right;\">\n",
       "      <th></th>\n",
       "      <th>단지명</th>\n",
       "      <th>거래금액</th>\n",
       "    </tr>\n",
       "  </thead>\n",
       "  <tbody>\n",
       "    <tr>\n",
       "      <th>1191</th>\n",
       "      <td>DMC디에트르한강</td>\n",
       "      <td>129000</td>\n",
       "    </tr>\n",
       "    <tr>\n",
       "      <th>1192</th>\n",
       "      <td>DMC한강에일린의뜰</td>\n",
       "      <td>130000</td>\n",
       "    </tr>\n",
       "    <tr>\n",
       "      <th>1193</th>\n",
       "      <td>DMC한강에일린의뜰</td>\n",
       "      <td>115000</td>\n",
       "    </tr>\n",
       "    <tr>\n",
       "      <th>1446</th>\n",
       "      <td>일산요진와이시티</td>\n",
       "      <td>155000</td>\n",
       "    </tr>\n",
       "    <tr>\n",
       "      <th>1449</th>\n",
       "      <td>일산요진와이시티</td>\n",
       "      <td>102000</td>\n",
       "    </tr>\n",
       "    <tr>\n",
       "      <th>...</th>\n",
       "      <td>...</td>\n",
       "      <td>...</td>\n",
       "    </tr>\n",
       "    <tr>\n",
       "      <th>20912</th>\n",
       "      <td>송도센트럴파크푸르지오</td>\n",
       "      <td>101000</td>\n",
       "    </tr>\n",
       "    <tr>\n",
       "      <th>20913</th>\n",
       "      <td>송도아메리칸타운아이파크</td>\n",
       "      <td>121000</td>\n",
       "    </tr>\n",
       "    <tr>\n",
       "      <th>20933</th>\n",
       "      <td>송도자이하버뷰2단지</td>\n",
       "      <td>160000</td>\n",
       "    </tr>\n",
       "    <tr>\n",
       "      <th>24887</th>\n",
       "      <td>천안 불당 지웰시티푸르지오 2단지</td>\n",
       "      <td>105000</td>\n",
       "    </tr>\n",
       "    <tr>\n",
       "      <th>24895</th>\n",
       "      <td>천안불당지웰더샵</td>\n",
       "      <td>110000</td>\n",
       "    </tr>\n",
       "  </tbody>\n",
       "</table>\n",
       "<p>1229 rows × 2 columns</p>\n",
       "</div>"
      ],
      "text/plain": [
       "                      단지명    거래금액\n",
       "1191            DMC디에트르한강  129000\n",
       "1192           DMC한강에일린의뜰  130000\n",
       "1193           DMC한강에일린의뜰  115000\n",
       "1446             일산요진와이시티  155000\n",
       "1449             일산요진와이시티  102000\n",
       "...                   ...     ...\n",
       "20912         송도센트럴파크푸르지오  101000\n",
       "20913        송도아메리칸타운아이파크  121000\n",
       "20933          송도자이하버뷰2단지  160000\n",
       "24887  천안 불당 지웰시티푸르지오 2단지  105000\n",
       "24895            천안불당지웰더샵  110000\n",
       "\n",
       "[1229 rows x 2 columns]"
      ]
     },
     "execution_count": 16,
     "metadata": {},
     "output_type": "execute_result"
    }
   ],
   "source": [
    "# 판다스 데이터 프레임으로 원하는 자료만 가져오기\n",
    "# 앞에서부터 시작해서 11개의 행 데이터와 '단지명','거래금액' 2개의 속성값만 가져오기\n",
    "# print(df.loc[:10, ['단지명','거래금액']])\n",
    "# 전체 데이터에서 10억원 초과하는 가격으로 거래된 아파트만 가져오기\n",
    "df.loc[:, ['단지명','거래금액']][df['거래금액'] > 100000]"
   ]
  },
  {
   "cell_type": "code",
   "execution_count": 17,
   "metadata": {},
   "outputs": [
    {
     "data": {
      "text/html": [
       "<div>\n",
       "<style scoped>\n",
       "    .dataframe tbody tr th:only-of-type {\n",
       "        vertical-align: middle;\n",
       "    }\n",
       "\n",
       "    .dataframe tbody tr th {\n",
       "        vertical-align: top;\n",
       "    }\n",
       "\n",
       "    .dataframe thead th {\n",
       "        text-align: right;\n",
       "    }\n",
       "</style>\n",
       "<table border=\"1\" class=\"dataframe\">\n",
       "  <thead>\n",
       "    <tr style=\"text-align: right;\">\n",
       "      <th></th>\n",
       "      <th>거래금액</th>\n",
       "      <th>전용면적</th>\n",
       "      <th>단가</th>\n",
       "    </tr>\n",
       "  </thead>\n",
       "  <tbody>\n",
       "    <tr>\n",
       "      <th>0</th>\n",
       "      <td>23000</td>\n",
       "      <td>59.8000</td>\n",
       "      <td>384.615385</td>\n",
       "    </tr>\n",
       "    <tr>\n",
       "      <th>1</th>\n",
       "      <td>31000</td>\n",
       "      <td>84.9450</td>\n",
       "      <td>364.942021</td>\n",
       "    </tr>\n",
       "    <tr>\n",
       "      <th>2</th>\n",
       "      <td>16400</td>\n",
       "      <td>43.3800</td>\n",
       "      <td>378.054403</td>\n",
       "    </tr>\n",
       "    <tr>\n",
       "      <th>3</th>\n",
       "      <td>24500</td>\n",
       "      <td>59.9900</td>\n",
       "      <td>408.401400</td>\n",
       "    </tr>\n",
       "    <tr>\n",
       "      <th>4</th>\n",
       "      <td>28500</td>\n",
       "      <td>84.9900</td>\n",
       "      <td>335.333569</td>\n",
       "    </tr>\n",
       "    <tr>\n",
       "      <th>5</th>\n",
       "      <td>32500</td>\n",
       "      <td>84.9900</td>\n",
       "      <td>382.397929</td>\n",
       "    </tr>\n",
       "    <tr>\n",
       "      <th>6</th>\n",
       "      <td>60000</td>\n",
       "      <td>163.9852</td>\n",
       "      <td>365.886678</td>\n",
       "    </tr>\n",
       "    <tr>\n",
       "      <th>7</th>\n",
       "      <td>37500</td>\n",
       "      <td>84.9855</td>\n",
       "      <td>441.251743</td>\n",
       "    </tr>\n",
       "    <tr>\n",
       "      <th>8</th>\n",
       "      <td>35400</td>\n",
       "      <td>66.0388</td>\n",
       "      <td>536.048505</td>\n",
       "    </tr>\n",
       "    <tr>\n",
       "      <th>9</th>\n",
       "      <td>31000</td>\n",
       "      <td>66.0388</td>\n",
       "      <td>469.421007</td>\n",
       "    </tr>\n",
       "    <tr>\n",
       "      <th>10</th>\n",
       "      <td>27500</td>\n",
       "      <td>59.8400</td>\n",
       "      <td>459.558824</td>\n",
       "    </tr>\n",
       "  </tbody>\n",
       "</table>\n",
       "</div>"
      ],
      "text/plain": [
       "     거래금액      전용면적          단가\n",
       "0   23000   59.8000  384.615385\n",
       "1   31000   84.9450  364.942021\n",
       "2   16400   43.3800  378.054403\n",
       "3   24500   59.9900  408.401400\n",
       "4   28500   84.9900  335.333569\n",
       "5   32500   84.9900  382.397929\n",
       "6   60000  163.9852  365.886678\n",
       "7   37500   84.9855  441.251743\n",
       "8   35400   66.0388  536.048505\n",
       "9   31000   66.0388  469.421007\n",
       "10  27500   59.8400  459.558824"
      ]
     },
     "execution_count": 17,
     "metadata": {},
     "output_type": "execute_result"
    }
   ],
   "source": [
    "# 판다스 데이터 프레임에 속성값 추가하기\n",
    "df['단가'] = df['거래금액'] / df['전용면적']\n",
    "df.loc[:10, ['거래금액', '전용면적', '단가']]"
   ]
  },
  {
   "cell_type": "code",
   "execution_count": 18,
   "metadata": {},
   "outputs": [
    {
     "data": {
      "text/html": [
       "<div>\n",
       "<style scoped>\n",
       "    .dataframe tbody tr th:only-of-type {\n",
       "        vertical-align: middle;\n",
       "    }\n",
       "\n",
       "    .dataframe tbody tr th {\n",
       "        vertical-align: top;\n",
       "    }\n",
       "\n",
       "    .dataframe thead th {\n",
       "        text-align: right;\n",
       "    }\n",
       "</style>\n",
       "<table border=\"1\" class=\"dataframe\">\n",
       "  <thead>\n",
       "    <tr style=\"text-align: right;\">\n",
       "      <th></th>\n",
       "      <th>거래금액</th>\n",
       "      <th>전용면적</th>\n",
       "      <th>시군구</th>\n",
       "    </tr>\n",
       "  </thead>\n",
       "  <tbody>\n",
       "    <tr>\n",
       "      <th>17949</th>\n",
       "      <td>51000</td>\n",
       "      <td>25.6500</td>\n",
       "      <td>서울특별시 송파구 문정동</td>\n",
       "    </tr>\n",
       "    <tr>\n",
       "      <th>17992</th>\n",
       "      <td>93000</td>\n",
       "      <td>27.6800</td>\n",
       "      <td>서울특별시 송파구 잠실동</td>\n",
       "    </tr>\n",
       "    <tr>\n",
       "      <th>17646</th>\n",
       "      <td>50500</td>\n",
       "      <td>28.8500</td>\n",
       "      <td>서울특별시 서초구 서초동</td>\n",
       "    </tr>\n",
       "    <tr>\n",
       "      <th>18280</th>\n",
       "      <td>47600</td>\n",
       "      <td>30.1355</td>\n",
       "      <td>서울특별시 영등포구 영등포동</td>\n",
       "    </tr>\n",
       "    <tr>\n",
       "      <th>18281</th>\n",
       "      <td>44000</td>\n",
       "      <td>30.2372</td>\n",
       "      <td>서울특별시 영등포구 영등포동</td>\n",
       "    </tr>\n",
       "    <tr>\n",
       "      <th>...</th>\n",
       "      <td>...</td>\n",
       "      <td>...</td>\n",
       "      <td>...</td>\n",
       "    </tr>\n",
       "    <tr>\n",
       "      <th>16297</th>\n",
       "      <td>670000</td>\n",
       "      <td>244.2240</td>\n",
       "      <td>서울특별시 강남구 도곡동</td>\n",
       "    </tr>\n",
       "    <tr>\n",
       "      <th>16292</th>\n",
       "      <td>745000</td>\n",
       "      <td>244.6600</td>\n",
       "      <td>서울특별시 강남구 도곡동</td>\n",
       "    </tr>\n",
       "    <tr>\n",
       "      <th>14988</th>\n",
       "      <td>200000</td>\n",
       "      <td>244.8647</td>\n",
       "      <td>부산광역시 남구 용호동</td>\n",
       "    </tr>\n",
       "    <tr>\n",
       "      <th>17619</th>\n",
       "      <td>650000</td>\n",
       "      <td>244.9720</td>\n",
       "      <td>서울특별시 서초구 반포동</td>\n",
       "    </tr>\n",
       "    <tr>\n",
       "      <th>17638</th>\n",
       "      <td>262000</td>\n",
       "      <td>257.1200</td>\n",
       "      <td>서울특별시 서초구 방배동</td>\n",
       "    </tr>\n",
       "  </tbody>\n",
       "</table>\n",
       "<p>8711 rows × 3 columns</p>\n",
       "</div>"
      ],
      "text/plain": [
       "         거래금액      전용면적              시군구\n",
       "17949   51000   25.6500    서울특별시 송파구 문정동\n",
       "17992   93000   27.6800    서울특별시 송파구 잠실동\n",
       "17646   50500   28.8500    서울특별시 서초구 서초동\n",
       "18280   47600   30.1355  서울특별시 영등포구 영등포동\n",
       "18281   44000   30.2372  서울특별시 영등포구 영등포동\n",
       "...       ...       ...              ...\n",
       "16297  670000  244.2240    서울특별시 강남구 도곡동\n",
       "16292  745000  244.6600    서울특별시 강남구 도곡동\n",
       "14988  200000  244.8647     부산광역시 남구 용호동\n",
       "17619  650000  244.9720    서울특별시 서초구 반포동\n",
       "17638  262000  257.1200    서울특별시 서초구 방배동\n",
       "\n",
       "[8711 rows x 3 columns]"
      ]
     },
     "execution_count": 18,
     "metadata": {},
     "output_type": "execute_result"
    }
   ],
   "source": [
    "# 판다스 데이터 프레임으로 정렬하기(sort_values함수)\n",
    "# 거래금액 오름차순으로 정렬\n",
    "# df.sort_values(by='거래금액').loc[:, ('거래금액', '시군구')]\n",
    "# 거래금액 내림차순으로 정렬\n",
    "# df.sort_values(by='거래금액', ascending=False).loc[:, ('거래금액', '시군구')]\n",
    "# 4억원이 넘는 아파트 중에서 전용 면적이 넓어지는 순서(오름차순)\n",
    "df[df['거래금액'] > 40000].sort_values(by='전용면적').loc[:, ('거래금액', '전용면적', '시군구')]"
   ]
  },
  {
   "cell_type": "code",
   "execution_count": 19,
   "metadata": {},
   "outputs": [
    {
     "data": {
      "text/plain": [
       "21161.257575757576"
      ]
     },
     "execution_count": 19,
     "metadata": {},
     "output_type": "execute_result"
    }
   ],
   "source": [
    "# 판다스 데이터 프레임에서 원하는 문자열만 찾아서(str.contains함수) 핸들링 하기\n",
    "# df.head()\n",
    "\n",
    "# 시군구 컬럼에서 '강릉'이라는 단어가 포함된 데이터 행만 가져오기\n",
    "# df[df['시군구'].str.contains('강릉')]\n",
    "\n",
    "# 위의 데이터 중에서 거래금액 평균값을 가져오기\n",
    "df[df['시군구'].str.contains('강릉')].거래금액.mean()"
   ]
  },
  {
   "cell_type": "code",
   "execution_count": 26,
   "metadata": {},
   "outputs": [
    {
     "name": "stdout",
     "output_type": "stream",
     "text": [
      "c:\\Users\\human-01\\python-data-analysis1\\24.06.27\n"
     ]
    },
    {
     "ename": "EmptyDataError",
     "evalue": "No columns to parse from file",
     "output_type": "error",
     "traceback": [
      "\u001b[1;31m---------------------------------------------------------------------------\u001b[0m",
      "\u001b[1;31mEmptyDataError\u001b[0m                            Traceback (most recent call last)",
      "Cell \u001b[1;32mIn[26], line 7\u001b[0m\n\u001b[0;32m      4\u001b[0m \u001b[38;5;28mprint\u001b[39m(os\u001b[38;5;241m.\u001b[39mgetcwd())\n\u001b[0;32m      5\u001b[0m os\u001b[38;5;241m.\u001b[39mchdir(\u001b[38;5;124m\"\u001b[39m\u001b[38;5;124mc:\u001b[39m\u001b[38;5;130;01m\\\\\u001b[39;00m\u001b[38;5;124mUsers\u001b[39m\u001b[38;5;130;01m\\\\\u001b[39;00m\u001b[38;5;124mhuman-01\u001b[39m\u001b[38;5;130;01m\\\\\u001b[39;00m\u001b[38;5;124mpython-data-analysis1\u001b[39m\u001b[38;5;130;01m\\\\\u001b[39;00m\u001b[38;5;124m24.06.27\u001b[39m\u001b[38;5;124m\"\u001b[39m)\n\u001b[1;32m----> 7\u001b[0m df2 \u001b[38;5;241m=\u001b[39m \u001b[43mpd\u001b[49m\u001b[38;5;241;43m.\u001b[39;49m\u001b[43mread_csv\u001b[49m\u001b[43m(\u001b[49m\u001b[38;5;124;43m'\u001b[39;49m\u001b[38;5;124;43msurvey.csv\u001b[39;49m\u001b[38;5;124;43m'\u001b[39;49m\u001b[43m)\u001b[49m\n\u001b[0;32m      8\u001b[0m df2\n",
      "File \u001b[1;32mc:\\Users\\human-01\\anaconda3\\Lib\\site-packages\\pandas\\io\\parsers\\readers.py:948\u001b[0m, in \u001b[0;36mread_csv\u001b[1;34m(filepath_or_buffer, sep, delimiter, header, names, index_col, usecols, dtype, engine, converters, true_values, false_values, skipinitialspace, skiprows, skipfooter, nrows, na_values, keep_default_na, na_filter, verbose, skip_blank_lines, parse_dates, infer_datetime_format, keep_date_col, date_parser, date_format, dayfirst, cache_dates, iterator, chunksize, compression, thousands, decimal, lineterminator, quotechar, quoting, doublequote, escapechar, comment, encoding, encoding_errors, dialect, on_bad_lines, delim_whitespace, low_memory, memory_map, float_precision, storage_options, dtype_backend)\u001b[0m\n\u001b[0;32m    935\u001b[0m kwds_defaults \u001b[38;5;241m=\u001b[39m _refine_defaults_read(\n\u001b[0;32m    936\u001b[0m     dialect,\n\u001b[0;32m    937\u001b[0m     delimiter,\n\u001b[1;32m   (...)\u001b[0m\n\u001b[0;32m    944\u001b[0m     dtype_backend\u001b[38;5;241m=\u001b[39mdtype_backend,\n\u001b[0;32m    945\u001b[0m )\n\u001b[0;32m    946\u001b[0m kwds\u001b[38;5;241m.\u001b[39mupdate(kwds_defaults)\n\u001b[1;32m--> 948\u001b[0m \u001b[38;5;28;01mreturn\u001b[39;00m \u001b[43m_read\u001b[49m\u001b[43m(\u001b[49m\u001b[43mfilepath_or_buffer\u001b[49m\u001b[43m,\u001b[49m\u001b[43m \u001b[49m\u001b[43mkwds\u001b[49m\u001b[43m)\u001b[49m\n",
      "File \u001b[1;32mc:\\Users\\human-01\\anaconda3\\Lib\\site-packages\\pandas\\io\\parsers\\readers.py:611\u001b[0m, in \u001b[0;36m_read\u001b[1;34m(filepath_or_buffer, kwds)\u001b[0m\n\u001b[0;32m    608\u001b[0m _validate_names(kwds\u001b[38;5;241m.\u001b[39mget(\u001b[38;5;124m\"\u001b[39m\u001b[38;5;124mnames\u001b[39m\u001b[38;5;124m\"\u001b[39m, \u001b[38;5;28;01mNone\u001b[39;00m))\n\u001b[0;32m    610\u001b[0m \u001b[38;5;66;03m# Create the parser.\u001b[39;00m\n\u001b[1;32m--> 611\u001b[0m parser \u001b[38;5;241m=\u001b[39m \u001b[43mTextFileReader\u001b[49m\u001b[43m(\u001b[49m\u001b[43mfilepath_or_buffer\u001b[49m\u001b[43m,\u001b[49m\u001b[43m \u001b[49m\u001b[38;5;241;43m*\u001b[39;49m\u001b[38;5;241;43m*\u001b[39;49m\u001b[43mkwds\u001b[49m\u001b[43m)\u001b[49m\n\u001b[0;32m    613\u001b[0m \u001b[38;5;28;01mif\u001b[39;00m chunksize \u001b[38;5;129;01mor\u001b[39;00m iterator:\n\u001b[0;32m    614\u001b[0m     \u001b[38;5;28;01mreturn\u001b[39;00m parser\n",
      "File \u001b[1;32mc:\\Users\\human-01\\anaconda3\\Lib\\site-packages\\pandas\\io\\parsers\\readers.py:1448\u001b[0m, in \u001b[0;36mTextFileReader.__init__\u001b[1;34m(self, f, engine, **kwds)\u001b[0m\n\u001b[0;32m   1445\u001b[0m     \u001b[38;5;28mself\u001b[39m\u001b[38;5;241m.\u001b[39moptions[\u001b[38;5;124m\"\u001b[39m\u001b[38;5;124mhas_index_names\u001b[39m\u001b[38;5;124m\"\u001b[39m] \u001b[38;5;241m=\u001b[39m kwds[\u001b[38;5;124m\"\u001b[39m\u001b[38;5;124mhas_index_names\u001b[39m\u001b[38;5;124m\"\u001b[39m]\n\u001b[0;32m   1447\u001b[0m \u001b[38;5;28mself\u001b[39m\u001b[38;5;241m.\u001b[39mhandles: IOHandles \u001b[38;5;241m|\u001b[39m \u001b[38;5;28;01mNone\u001b[39;00m \u001b[38;5;241m=\u001b[39m \u001b[38;5;28;01mNone\u001b[39;00m\n\u001b[1;32m-> 1448\u001b[0m \u001b[38;5;28mself\u001b[39m\u001b[38;5;241m.\u001b[39m_engine \u001b[38;5;241m=\u001b[39m \u001b[38;5;28;43mself\u001b[39;49m\u001b[38;5;241;43m.\u001b[39;49m\u001b[43m_make_engine\u001b[49m\u001b[43m(\u001b[49m\u001b[43mf\u001b[49m\u001b[43m,\u001b[49m\u001b[43m \u001b[49m\u001b[38;5;28;43mself\u001b[39;49m\u001b[38;5;241;43m.\u001b[39;49m\u001b[43mengine\u001b[49m\u001b[43m)\u001b[49m\n",
      "File \u001b[1;32mc:\\Users\\human-01\\anaconda3\\Lib\\site-packages\\pandas\\io\\parsers\\readers.py:1723\u001b[0m, in \u001b[0;36mTextFileReader._make_engine\u001b[1;34m(self, f, engine)\u001b[0m\n\u001b[0;32m   1720\u001b[0m     \u001b[38;5;28;01mraise\u001b[39;00m \u001b[38;5;167;01mValueError\u001b[39;00m(msg)\n\u001b[0;32m   1722\u001b[0m \u001b[38;5;28;01mtry\u001b[39;00m:\n\u001b[1;32m-> 1723\u001b[0m     \u001b[38;5;28;01mreturn\u001b[39;00m \u001b[43mmapping\u001b[49m\u001b[43m[\u001b[49m\u001b[43mengine\u001b[49m\u001b[43m]\u001b[49m\u001b[43m(\u001b[49m\u001b[43mf\u001b[49m\u001b[43m,\u001b[49m\u001b[43m \u001b[49m\u001b[38;5;241;43m*\u001b[39;49m\u001b[38;5;241;43m*\u001b[39;49m\u001b[38;5;28;43mself\u001b[39;49m\u001b[38;5;241;43m.\u001b[39;49m\u001b[43moptions\u001b[49m\u001b[43m)\u001b[49m\n\u001b[0;32m   1724\u001b[0m \u001b[38;5;28;01mexcept\u001b[39;00m \u001b[38;5;167;01mException\u001b[39;00m:\n\u001b[0;32m   1725\u001b[0m     \u001b[38;5;28;01mif\u001b[39;00m \u001b[38;5;28mself\u001b[39m\u001b[38;5;241m.\u001b[39mhandles \u001b[38;5;129;01mis\u001b[39;00m \u001b[38;5;129;01mnot\u001b[39;00m \u001b[38;5;28;01mNone\u001b[39;00m:\n",
      "File \u001b[1;32mc:\\Users\\human-01\\anaconda3\\Lib\\site-packages\\pandas\\io\\parsers\\c_parser_wrapper.py:93\u001b[0m, in \u001b[0;36mCParserWrapper.__init__\u001b[1;34m(self, src, **kwds)\u001b[0m\n\u001b[0;32m     90\u001b[0m \u001b[38;5;28;01mif\u001b[39;00m kwds[\u001b[38;5;124m\"\u001b[39m\u001b[38;5;124mdtype_backend\u001b[39m\u001b[38;5;124m\"\u001b[39m] \u001b[38;5;241m==\u001b[39m \u001b[38;5;124m\"\u001b[39m\u001b[38;5;124mpyarrow\u001b[39m\u001b[38;5;124m\"\u001b[39m:\n\u001b[0;32m     91\u001b[0m     \u001b[38;5;66;03m# Fail here loudly instead of in cython after reading\u001b[39;00m\n\u001b[0;32m     92\u001b[0m     import_optional_dependency(\u001b[38;5;124m\"\u001b[39m\u001b[38;5;124mpyarrow\u001b[39m\u001b[38;5;124m\"\u001b[39m)\n\u001b[1;32m---> 93\u001b[0m \u001b[38;5;28mself\u001b[39m\u001b[38;5;241m.\u001b[39m_reader \u001b[38;5;241m=\u001b[39m \u001b[43mparsers\u001b[49m\u001b[38;5;241;43m.\u001b[39;49m\u001b[43mTextReader\u001b[49m\u001b[43m(\u001b[49m\u001b[43msrc\u001b[49m\u001b[43m,\u001b[49m\u001b[43m \u001b[49m\u001b[38;5;241;43m*\u001b[39;49m\u001b[38;5;241;43m*\u001b[39;49m\u001b[43mkwds\u001b[49m\u001b[43m)\u001b[49m\n\u001b[0;32m     95\u001b[0m \u001b[38;5;28mself\u001b[39m\u001b[38;5;241m.\u001b[39munnamed_cols \u001b[38;5;241m=\u001b[39m \u001b[38;5;28mself\u001b[39m\u001b[38;5;241m.\u001b[39m_reader\u001b[38;5;241m.\u001b[39munnamed_cols\n\u001b[0;32m     97\u001b[0m \u001b[38;5;66;03m# error: Cannot determine type of 'names'\u001b[39;00m\n",
      "File \u001b[1;32mparsers.pyx:586\u001b[0m, in \u001b[0;36mpandas._libs.parsers.TextReader.__cinit__\u001b[1;34m()\u001b[0m\n",
      "\u001b[1;31mEmptyDataError\u001b[0m: No columns to parse from file"
     ]
    }
   ],
   "source": [
    "import os, re\n",
    "import pandas as pd\n",
    "\n",
    "print(os.getcwd())\n",
    "os.chdir(\"c:\\\\Users\\\\human-01\\\\python-data-analysis1\\\\24.06.27\")\n",
    "\n",
    "df2 = pd.read_csv('survey.csv')\n",
    "df2"
   ]
  },
  {
   "cell_type": "code",
   "execution_count": 27,
   "metadata": {},
   "outputs": [
    {
     "ename": "NameError",
     "evalue": "name 'df2' is not defined",
     "output_type": "error",
     "traceback": [
      "\u001b[1;31m---------------------------------------------------------------------------\u001b[0m",
      "\u001b[1;31mNameError\u001b[0m                                 Traceback (most recent call last)",
      "Cell \u001b[1;32mIn[27], line 3\u001b[0m\n\u001b[0;32m      1\u001b[0m \u001b[38;5;66;03m# df2.describe()\u001b[39;00m\n\u001b[0;32m      2\u001b[0m \u001b[38;5;66;03m# df2.income.describe()\u001b[39;00m\n\u001b[1;32m----> 3\u001b[0m \u001b[43mdf2\u001b[49m[\u001b[38;5;124m'\u001b[39m\u001b[38;5;124mincome\u001b[39m\u001b[38;5;124m'\u001b[39m]\u001b[38;5;241m.\u001b[39mdescribe() \u001b[38;5;66;03m# 기초 통계량 보기\u001b[39;00m\n\u001b[0;32m      4\u001b[0m df2[\u001b[38;5;124m'\u001b[39m\u001b[38;5;124mincome\u001b[39m\u001b[38;5;124m'\u001b[39m]\u001b[38;5;241m.\u001b[39msum()    \u001b[38;5;66;03m# 합계 보기\u001b[39;00m\n\u001b[0;32m      5\u001b[0m df2[\u001b[38;5;124m'\u001b[39m\u001b[38;5;124mincome\u001b[39m\u001b[38;5;124m'\u001b[39m]\u001b[38;5;241m.\u001b[39mmedian()    \u001b[38;5;66;03m# 중앙(중간)값 보기\u001b[39;00m\n",
      "\u001b[1;31mNameError\u001b[0m: name 'df2' is not defined"
     ]
    }
   ],
   "source": [
    "# df2.describe()\n",
    "# df2.income.describe()\n",
    "df2['income'].describe() # 기초 통계량 보기\n",
    "df2['income'].sum()    # 합계 보기\n",
    "df2['income'].median()    # 중앙(중간)값 보기"
   ]
  },
  {
   "cell_type": "code",
   "execution_count": 22,
   "metadata": {},
   "outputs": [
    {
     "ename": "NameError",
     "evalue": "name 'df2' is not defined",
     "output_type": "error",
     "traceback": [
      "\u001b[1;31m---------------------------------------------------------------------------\u001b[0m",
      "\u001b[1;31mNameError\u001b[0m                                 Traceback (most recent call last)",
      "Cell \u001b[1;32mIn[22], line 2\u001b[0m\n\u001b[0;32m      1\u001b[0m \u001b[38;5;66;03m# 기초 통계 중에서 빈도(frequency) 분석하기\u001b[39;00m\n\u001b[1;32m----> 2\u001b[0m \u001b[43mdf2\u001b[49m[\u001b[38;5;124m'\u001b[39m\u001b[38;5;124msex\u001b[39m\u001b[38;5;124m'\u001b[39m]\u001b[38;5;241m.\u001b[39mvalue_counts()\n",
      "\u001b[1;31mNameError\u001b[0m: name 'df2' is not defined"
     ]
    }
   ],
   "source": [
    "# 기초 통계 중에서 빈도(frequency) 분석하기\n",
    "df2['sex'].value_counts()"
   ]
  },
  {
   "cell_type": "code",
   "execution_count": 23,
   "metadata": {},
   "outputs": [
    {
     "ename": "NameError",
     "evalue": "name 'df2' is not defined",
     "output_type": "error",
     "traceback": [
      "\u001b[1;31m---------------------------------------------------------------------------\u001b[0m",
      "\u001b[1;31mNameError\u001b[0m                                 Traceback (most recent call last)",
      "Cell \u001b[1;32mIn[23], line 3\u001b[0m\n\u001b[0;32m      1\u001b[0m \u001b[38;5;66;03m# 판다스 데이터 프레임에서 두 집단을 나누는 함수(groupby())\u001b[39;00m\n\u001b[0;32m      2\u001b[0m \u001b[38;5;66;03m# 성별로 평균을 구하는 코드\u001b[39;00m\n\u001b[1;32m----> 3\u001b[0m \u001b[38;5;28mprint\u001b[39m(\u001b[43mdf2\u001b[49m\u001b[38;5;241m.\u001b[39mgroupby(\u001b[38;5;124m'\u001b[39m\u001b[38;5;124msex\u001b[39m\u001b[38;5;124m'\u001b[39m)\u001b[38;5;241m.\u001b[39mmean())\n\u001b[0;32m      4\u001b[0m \u001b[38;5;66;03m# 성별로 합계을 구하는 코드\u001b[39;00m\n\u001b[0;32m      5\u001b[0m \u001b[38;5;28mprint\u001b[39m(df2\u001b[38;5;241m.\u001b[39mgroupby(\u001b[38;5;124m'\u001b[39m\u001b[38;5;124msex\u001b[39m\u001b[38;5;124m'\u001b[39m)\u001b[38;5;241m.\u001b[39msum())\n",
      "\u001b[1;31mNameError\u001b[0m: name 'df2' is not defined"
     ]
    }
   ],
   "source": [
    "# 판다스 데이터 프레임에서 두 집단을 나누는 함수(groupby())\n",
    "# 성별로 평균을 구하는 코드\n",
    "print(df2.groupby('sex').mean())\n",
    "# 성별로 합계을 구하는 코드\n",
    "print(df2.groupby('sex').sum())"
   ]
  },
  {
   "cell_type": "code",
   "execution_count": 24,
   "metadata": {},
   "outputs": [],
   "source": [
    "import matplotlib.pyplot as plt\n",
    "x = [1,4,9,16,25]"
   ]
  }
 ],
 "metadata": {
  "kernelspec": {
   "display_name": "Python 3",
   "language": "python",
   "name": "python3"
  },
  "language_info": {
   "codemirror_mode": {
    "name": "ipython",
    "version": 3
   },
   "file_extension": ".py",
   "mimetype": "text/x-python",
   "name": "python",
   "nbconvert_exporter": "python",
   "pygments_lexer": "ipython3",
   "version": "3.11.7"
  }
 },
 "nbformat": 4,
 "nbformat_minor": 2
}
