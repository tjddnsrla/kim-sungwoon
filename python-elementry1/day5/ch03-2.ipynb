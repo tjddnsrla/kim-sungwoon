{
 "cells": [
  {
   "cell_type": "code",
   "execution_count": 6,
   "metadata": {},
   "outputs": [],
   "source": [
    "# While문 학습(반복문1)((iteration)1)\n",
    "# 프로그램의 꽃\n",
    "\n",
    "# if 조건문:\n",
    "#     수행할 문장1    1 \n",
    "#     수행할 문장2    2\n",
    "#     수행할 문장3    3\n",
    "#                    4\n",
    "# While 조건문:      4\n",
    "#     수행할 문장1    1\n",
    "#     수행할 문장2    2\n",
    "#     수행할 문장3    3"
   ]
  },
  {
   "cell_type": "code",
   "execution_count": 7,
   "metadata": {},
   "outputs": [
    {
     "name": "stdout",
     "output_type": "stream",
     "text": [
      "나무를 1번 찍었습니다.\n",
      "나무를 2번 찍었습니다.\n",
      "나무를 3번 찍었습니다.\n",
      "나무를 4번 찍었습니다.\n",
      "나무를 5번 찍었습니다.\n",
      "나무를 6번 찍었습니다.\n",
      "나무를 7번 찍었습니다.\n",
      "나무를 8번 찍었습니다.\n",
      "나무를 9번 찍었습니다.\n",
      "나무를 10번 찍었습니다.\n",
      "나무 넘어갑니다.\n"
     ]
    }
   ],
   "source": [
    "# print(\"나무를 1번 찍었습니다.\")    \n",
    "# print(\"나무를 2번 찍었습니다.\")\n",
    "# print(\"나무를 3번 찍었습니다.\")\n",
    "# print(\"나무를 4번 찍었습니다.\")     ->  \n",
    "# print(\"나무를 5번 찍었습니다.\")\n",
    "# print(\"나무를 6번 찍었습니다.\")\n",
    "\n",
    "treeHit = 0\n",
    "while treeHit < 10:\n",
    "    treeHit = treeHit + 1\n",
    "    print(\"나무를 %d번 찍었습니다.\" % treeHit)\n",
    "    if treeHit == 10:\n",
    "        print(\"나무 넘어갑니다.\")\n"
   ]
  },
  {
   "cell_type": "code",
   "execution_count": 8,
   "metadata": {},
   "outputs": [
    {
     "name": "stdout",
     "output_type": "stream",
     "text": [
      "\n",
      "1. Add\n",
      "2. Del\n",
      "3. List\n",
      "4. Quit\n",
      "\n",
      "\n",
      "\n",
      "1. Add\n",
      "2. Del\n",
      "3. List\n",
      "4. Quit\n",
      "\n",
      "\n",
      "\n",
      "1. Add\n",
      "2. Del\n",
      "3. List\n",
      "4. Quit\n",
      "\n",
      "\n",
      "\n",
      "1. Add\n",
      "2. Del\n",
      "3. List\n",
      "4. Quit\n",
      "\n",
      "\n"
     ]
    }
   ],
   "source": [
    "prompt= \"\"\"\n",
    "... 1. Add\n",
    "... 2. Del\n",
    "... 3. List\n",
    "... 4. Quit\n",
    "...\n",
    "\"\"\"\n",
    "\n",
    "unmber = 0\n",
    "while unmber != 4:\n",
    "    print(prompt)\n",
    "    unmber = int(input())\n"
   ]
  },
  {
   "cell_type": "code",
   "execution_count": 9,
   "metadata": {},
   "outputs": [
    {
     "name": "stdout",
     "output_type": "stream",
     "text": [
      "돈을 받았으니 커피를 줍니다.\n",
      "남은 커피의 양은 9개입니다.\n",
      "돈을 받았으니 커피를 줍니다.\n",
      "남은 커피의 양은 8개입니다.\n",
      "돈을 받았으니 커피를 줍니다.\n",
      "남은 커피의 양은 7개입니다.\n",
      "돈을 받았으니 커피를 줍니다.\n",
      "남은 커피의 양은 6개입니다.\n",
      "돈을 받았으니 커피를 줍니다.\n",
      "남은 커피의 양은 5개입니다.\n",
      "돈을 받았으니 커피를 줍니다.\n",
      "남은 커피의 양은 4개입니다.\n",
      "돈을 받았으니 커피를 줍니다.\n",
      "남은 커피의 양은 3개입니다.\n",
      "돈을 받았으니 커피를 줍니다.\n",
      "남은 커피의 양은 2개입니다.\n",
      "돈을 받았으니 커피를 줍니다.\n",
      "남은 커피의 양은 1개입니다.\n",
      "돈을 받았으니 커피를 줍니다.\n",
      "남은 커피의 양은 0개입니다.\n",
      "커피가 다 떨어졌습니다. 판매를 중지합니다.\n"
     ]
    }
   ],
   "source": [
    "# While 반복문 빠져나가기 방법\n",
    "# 1. while문의 조건식이 False 일 때\n",
    "# 2. break문을 활용하여 while문 빠져나가기\n",
    "\n",
    "coffee = 10\n",
    "money = 300\n",
    "while money:\n",
    "     print(\"돈을 받았으니 커피를 줍니다.\")\n",
    "     coffee = coffee -1\n",
    "     print(\"남은 커피의 양은 %d개입니다.\" % coffee)\n",
    "     \n",
    "     if coffee == 0:\n",
    "         print(\"커피가 다 떨어졌습니다. 판매를 중지합니다.\")\n",
    "         break\n",
    "     "
   ]
  },
  {
   "cell_type": "code",
   "execution_count": 18,
   "metadata": {},
   "outputs": [
    {
     "name": "stdout",
     "output_type": "stream",
     "text": [
      "거스름돈 2700를 주고 커피를 줍니다.\n",
      "돈을 다시 돌려주고 커피를 주지 않습니다.\n",
      "남은 커피의 양은 9개 입니다.\n",
      "커피를 줍니다.\n",
      "커피를 줍니다.\n",
      "커피를 줍니다.\n",
      "커피를 줍니다.\n",
      "커피를 줍니다.\n",
      "커피를 줍니다.\n",
      "커피를 줍니다.\n",
      "커피를 줍니다.\n",
      "커피를 줍니다.\n",
      "커피가 다 떨어졌습니다. 판매를 중지 합니다.\n"
     ]
    }
   ],
   "source": [
    "coffee = 10\n",
    "while True:\n",
    "    money = int(input(\"돈을 넣어 주세요: \"))\n",
    "    #(if 그룹1)\n",
    "    if money == 300:     \n",
    "        print(\"커피를 줍니다.\")\n",
    "        coffee = coffee -1\n",
    "    elif money > 300:\n",
    "        print(\"거스름돈 %d를 주고 커피를 줍니다.\" % (money -300))\n",
    "        coffee = coffee -1\n",
    "    else:\n",
    "        print(\"돈을 다시 돌려주고 커피를 주지 않습니다.\")\n",
    "        print(\"남은 커피의 양은 %d개 입니다.\" % coffee)  \n",
    "    #(if 그룹2)\n",
    "    if coffee == 0:     \n",
    "        print(\"커피가 다 떨어졌습니다. 판매를 중지 합니다.\")\n",
    "        break"
   ]
  },
  {
   "cell_type": "code",
   "execution_count": 20,
   "metadata": {},
   "outputs": [
    {
     "name": "stdout",
     "output_type": "stream",
     "text": [
      "1\n",
      "3\n",
      "5\n",
      "7\n",
      "9\n"
     ]
    }
   ],
   "source": [
    "# while문의 맨 처음으로 돌아가기 -> continue문\n",
    "a = 0\n",
    "while a < 10:\n",
    "    a = a + 1\n",
    "    if a % 2 == 0: \n",
    "        continue\n",
    "    print(a)         # -> |print() 붙이면 '10'만 나옴"
   ]
  },
  {
   "cell_type": "code",
   "execution_count": 22,
   "metadata": {},
   "outputs": [],
   "source": [
    "# 무한루프(infinity(andless) Loop)\n",
    "# While True\n",
    "#     print(\"Ctrl+c를 눌러야 while문을 빠져나갈 수 있습니다.\")"
   ]
  },
  {
   "cell_type": "code",
   "execution_count": 5,
   "metadata": {},
   "outputs": [
    {
     "name": "stdout",
     "output_type": "stream",
     "text": [
      "166833\n"
     ]
    }
   ],
   "source": [
    "# 문제1\n",
    "# While문을 사용해서 1부터 1000까지 3의 배수의 합을 화면에 출력하세요.\n",
    "# Hint: 3의 배수는 3으로 나누었을 때 나머지 값이 0인 것\n",
    "\n",
    "a = 0   # a는 나머지값\n",
    "b = 1   # b는 1 * 3의 값\n",
    "while b <= 1000:    # 1000이 나올 때 까지 반복\n",
    "    if b % 3 == 0:  # b를 3의 배수로 나누어 0이 나올 때 까지\n",
    "        a = a + b   # 3의 배\n",
    "    b = b + 1\n",
    "        \n",
    "print(a)"
   ]
  },
  {
   "cell_type": "code",
   "execution_count": 42,
   "metadata": {},
   "outputs": [
    {
     "name": "stdout",
     "output_type": "stream",
     "text": [
      "2\n",
      "4\n",
      "6\n",
      "8\n",
      "10\n",
      "12\n",
      "14\n",
      "16\n",
      "18\n",
      "20\n",
      "22\n",
      "24\n",
      "26\n",
      "28\n",
      "30\n",
      "32\n",
      "34\n",
      "36\n",
      "38\n",
      "40\n",
      "42\n",
      "44\n",
      "46\n",
      "48\n",
      "50\n",
      "52\n",
      "54\n",
      "56\n",
      "58\n",
      "60\n",
      "62\n",
      "64\n",
      "66\n",
      "68\n",
      "70\n",
      "72\n",
      "74\n",
      "76\n",
      "78\n",
      "80\n",
      "82\n",
      "84\n",
      "86\n",
      "88\n",
      "90\n",
      "92\n",
      "94\n",
      "96\n",
      "98\n",
      "100\n"
     ]
    }
   ],
   "source": [
    "# 문제2\n",
    "# While문을 사용해서 1이상 100 이하의 짝수를 모두 출력해 보세요\n",
    "\n",
    "a = 0\n",
    "while a < 100:\n",
    "    a = a + 2\n",
    "    if a == 0:\n",
    "        continue\n",
    "    \n",
    "    print(a)\n",
    "        "
   ]
  },
  {
   "cell_type": "code",
   "execution_count": 35,
   "metadata": {},
   "outputs": [
    {
     "name": "stdout",
     "output_type": "stream",
     "text": [
      "115\n"
     ]
    }
   ],
   "source": [
    "# 문제3\n",
    "# While문을 사용해서 100이상의 자연수 중 가장 작은 23의 배수를 출력해 보세요\n",
    "\n",
    "a = 100\n",
    "while a % 23:\n",
    "    a = a + 1\n",
    "print(a)\n"
   ]
  },
  {
   "cell_type": "code",
   "execution_count": 39,
   "metadata": {},
   "outputs": [
    {
     "name": "stdout",
     "output_type": "stream",
     "text": [
      "8\n",
      "16\n",
      "32\n",
      "40\n",
      "56\n",
      "64\n",
      "80\n",
      "88\n"
     ]
    }
   ],
   "source": [
    "# 문제4\n",
    "# while문과 if문을 활용하여, 100 이하의 자연수 중 8의 배수이지만 12의 배수는 아닌 것을 \n",
    "# 모두 출력하세요.\n",
    "# 예를 들어서 16은 8의 배수이지만 12의 배수가 아니니가 조건에 부합합니다.\n",
    "# 하지만 48은 8의 배수이면 12의 배수이기도 해서 조건에 부합하지 않습니다.\n",
    "\n",
    "a = 1\n",
    "while a <= 100:\n",
    "    if a % 8 == 0 and a % 12 != 0:\n",
    "        print(a)\n",
    "    a = a + 1\n",
    "    \n",
    "    "
   ]
  },
  {
   "cell_type": "code",
   "execution_count": 51,
   "metadata": {},
   "outputs": [
    {
     "name": "stdout",
     "output_type": "stream",
     "text": [
      "333167\n"
     ]
    }
   ],
   "source": [
    "# 문제5\n",
    "# 10보다 작은 2 또는 3의 배수는 2,3,4,6,8,9이며 이들의 합은 32입니다.\n",
    "# while문과 if문을 활용하여 1000보다 작은 자연수 중 2 또는 3의 배수의 합을 \n",
    "# 출력하는 프로그램을 만드세요\n",
    "# 출력 : 333167\n",
    "\n",
    "a = 0\n",
    "b = 1\n",
    "while b < 1000:\n",
    "    if b % 2 == 0 or b % 3 == 0:\n",
    "        a = a + b\n",
    "    b = b + 1\n",
    "    \n",
    "print(a)"
   ]
  },
  {
   "cell_type": "code",
   "execution_count": 95,
   "metadata": {},
   "outputs": [
    {
     "name": "stdout",
     "output_type": "stream",
     "text": [
      "1\n",
      "2\n",
      "3\n",
      "4\n",
      "5\n",
      "6\n",
      "8\n",
      "10\n",
      "12\n",
      "15\n",
      "20\n",
      "24\n",
      "30\n",
      "40\n",
      "60\n",
      "120\n",
      "정수 120의 약수는 16개 입니다\n"
     ]
    }
   ],
   "source": [
    "# 문제6\n",
    "# 정수 n의 약수는 n을 나누었을 때 나누어 떨어지는 수입니다.\n",
    "# 만약 정수 i가 정수 n의 약수라면 n을 i로 나누었을 때 나머지가 0이 나와야 하는 거죠.\n",
    "# 정수 120의 약수를 모두 출력하고 총 몇 개의 약수가 있는지 출력하는 프로그램을 만드세요\n",
    "# Hint: n % 1 == 0\n",
    "\n",
    "i = 1\n",
    "m = 0\n",
    "\n",
    "while i <= 120:\n",
    "    if 120 % i == 0:\n",
    "        print(i)\n",
    "        m = m + 1\n",
    "    i = i + 1\n",
    "    \n",
    "print(\"정수 120의 약수는 {}개 입니다\".format(m))"
   ]
  },
  {
   "cell_type": "code",
   "execution_count": 85,
   "metadata": {},
   "outputs": [
    {
     "name": "stdout",
     "output_type": "stream",
     "text": [
      "1 * 1 = 1\n",
      "1 * 2 = 2\n",
      "1 * 3 = 3\n",
      "1 * 4 = 4\n",
      "1 * 5 = 5\n",
      "1 * 6 = 6\n",
      "1 * 7 = 7\n",
      "1 * 8 = 8\n",
      "1 * 9 = 9\n",
      "2 * 1 = 2\n",
      "2 * 2 = 4\n",
      "2 * 3 = 6\n",
      "2 * 4 = 8\n",
      "2 * 5 = 10\n",
      "2 * 6 = 12\n",
      "2 * 7 = 14\n",
      "2 * 8 = 16\n",
      "2 * 9 = 18\n",
      "3 * 1 = 3\n",
      "3 * 2 = 6\n",
      "3 * 3 = 9\n",
      "3 * 4 = 12\n",
      "3 * 5 = 15\n",
      "3 * 6 = 18\n",
      "3 * 7 = 21\n",
      "3 * 8 = 24\n",
      "3 * 9 = 27\n",
      "4 * 1 = 4\n",
      "4 * 2 = 8\n",
      "4 * 3 = 12\n",
      "4 * 4 = 16\n",
      "4 * 5 = 20\n",
      "4 * 6 = 24\n",
      "4 * 7 = 28\n",
      "4 * 8 = 32\n",
      "4 * 9 = 36\n",
      "5 * 1 = 5\n",
      "5 * 2 = 10\n",
      "5 * 3 = 15\n",
      "5 * 4 = 20\n",
      "5 * 5 = 25\n",
      "5 * 6 = 30\n",
      "5 * 7 = 35\n",
      "5 * 8 = 40\n",
      "5 * 9 = 45\n",
      "6 * 1 = 6\n",
      "6 * 2 = 12\n",
      "6 * 3 = 18\n",
      "6 * 4 = 24\n",
      "6 * 5 = 30\n",
      "6 * 6 = 36\n",
      "6 * 7 = 42\n",
      "6 * 8 = 48\n",
      "6 * 9 = 54\n",
      "7 * 1 = 7\n",
      "7 * 2 = 14\n",
      "7 * 3 = 21\n",
      "7 * 4 = 28\n",
      "7 * 5 = 35\n",
      "7 * 6 = 42\n",
      "7 * 7 = 49\n",
      "7 * 8 = 56\n",
      "7 * 9 = 63\n",
      "8 * 1 = 8\n",
      "8 * 2 = 16\n",
      "8 * 3 = 24\n",
      "8 * 4 = 32\n",
      "8 * 5 = 40\n",
      "8 * 6 = 48\n",
      "8 * 7 = 56\n",
      "8 * 8 = 64\n",
      "8 * 9 = 72\n",
      "9 * 1 = 9\n",
      "9 * 2 = 18\n",
      "9 * 3 = 27\n",
      "9 * 4 = 36\n",
      "9 * 5 = 45\n",
      "9 * 6 = 54\n",
      "9 * 7 = 63\n",
      "9 * 8 = 72\n",
      "9 * 9 = 81\n"
     ]
    }
   ],
   "source": [
    "# 문제7\n",
    "# 이중 while문을 사용해서 구구단 프로그램을 만들어 보세요.\n",
    "# 실행하면 아래와 같이 출력이 되어야 합니다.\n",
    "# 1 * 1 = 1\n",
    "# 1 * 2 = 2\n",
    "# 1 * 3 = 3\n",
    "# 2 * 1 = 2\n",
    "# 2 * 2 = 4\n",
    "# 2 * 3 = 6\n",
    "# .\n",
    "# .\n",
    "# 9 * 1 = 9\n",
    "# 9 * 2 = 18\n",
    "# 9 * 3 = 27\n",
    "\n",
    "a = 1\n",
    "while a < 10:\n",
    "    print(a, \"단\", s)\n",
    "    b = 1\n",
    "    while b < 10:  \n",
    "        print(f\"{a} * {b} = {a * b}\")\n",
    "        b += 1\n",
    "    a += 1      "
   ]
  },
  {
   "cell_type": "code",
   "execution_count": 96,
   "metadata": {},
   "outputs": [
    {
     "name": "stdout",
     "output_type": "stream",
     "text": [
      "1\n",
      "1\n",
      "2\n",
      "3\n",
      "5\n",
      "8\n",
      "13\n",
      "21\n",
      "34\n",
      "55\n",
      "89\n",
      "144\n",
      "233\n",
      "377\n",
      "610\n",
      "987\n",
      "1597\n",
      "2584\n",
      "4181\n",
      "6765\n",
      "10946\n",
      "17711\n",
      "28657\n",
      "46368\n",
      "75025\n",
      "121393\n",
      "196418\n",
      "317811\n",
      "514229\n",
      "832040\n",
      "1346269\n",
      "2178309\n",
      "3524578\n",
      "5702887\n",
      "9227465\n",
      "14930352\n",
      "24157817\n",
      "39088169\n",
      "63245986\n",
      "102334155\n",
      "165580141\n",
      "267914296\n",
      "433494437\n",
      "701408733\n",
      "1134903170\n",
      "1836311903\n",
      "2971215073\n",
      "4807526976\n",
      "7778742049\n",
      "12586269025\n"
     ]
    }
   ],
   "source": [
    "# 문제8\n",
    "# 피보나치 수열문제\n",
    "# 1, 1, 2, 3, 5, 8, 13, 21, 45...와 같이 1번 항관 2번 항은 각각 1로 세팅이 되고\n",
    "# 3번 항부터는 바로 앞 두 항의 합으로 계산되는 수열이다. 피보나치 수열의 첫 50개 항을 차례대로 출력하는 프로그램을 작성\n",
    "\n",
    "a = 0\n",
    "b = 1\n",
    "c = 1\n",
    "\n",
    "while c <= 50:\n",
    "    print(b)\n",
    "    temp = a\n",
    "    a = b\n",
    "    b = b + temp\n",
    "    c += 1"
   ]
  },
  {
   "cell_type": "code",
   "execution_count": null,
   "metadata": {},
   "outputs": [],
   "source": []
  }
 ],
 "metadata": {
  "kernelspec": {
   "display_name": "base",
   "language": "python",
   "name": "python3"
  },
  "language_info": {
   "codemirror_mode": {
    "name": "ipython",
    "version": 3
   },
   "file_extension": ".py",
   "mimetype": "text/x-python",
   "name": "python",
   "nbconvert_exporter": "python",
   "pygments_lexer": "ipython3",
   "version": "3.11.9"
  }
 },
 "nbformat": 4,
 "nbformat_minor": 2
}
