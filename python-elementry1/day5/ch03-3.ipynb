{
 "cells": [
  {
   "cell_type": "code",
   "execution_count": 48,
   "metadata": {},
   "outputs": [],
   "source": [
    "# for문 학습\n",
    "# for문의 기본 구조\n",
    "# for 변수 in 리스트(또는 튜플, 문자열):\n",
    "#     수행할 문장1\n",
    "#     수행할 문장2\n",
    "#     ..."
   ]
  },
  {
   "cell_type": "code",
   "execution_count": 49,
   "metadata": {},
   "outputs": [
    {
     "name": "stdout",
     "output_type": "stream",
     "text": [
      "one\n",
      "two\n",
      "three\n"
     ]
    }
   ],
   "source": [
    "# 전형적인 for문\n",
    "test_list = ['one', 'two', 'three']\n",
    "for i in test_list:\n",
    "    print(i)"
   ]
  },
  {
   "cell_type": "code",
   "execution_count": 50,
   "metadata": {},
   "outputs": [
    {
     "name": "stdout",
     "output_type": "stream",
     "text": [
      "3\n",
      "7\n",
      "11\n"
     ]
    }
   ],
   "source": [
    "# 다양한 for 문의 사용\n",
    "a = [(1, 2), (3, 4), (5 , 6)]\n",
    "for (x, y) in a:\n",
    "    print(x + y)"
   ]
  },
  {
   "cell_type": "code",
   "execution_count": 51,
   "metadata": {},
   "outputs": [
    {
     "name": "stdout",
     "output_type": "stream",
     "text": [
      "1번 학생은 합격입니다.\n",
      "2번 학생은 불합격입니다.\n",
      "3번 학생은 합격입니다.\n",
      "4번 학생은 불합격입니다.\n",
      "5번 학생은 합격입니다.\n"
     ]
    }
   ],
   "source": [
    "marks = [90, 25, 67, 45, 80]   # 학생들의 시험 점수 리스트\n",
    "\n",
    "number = 0      # 학생에게 붙여 줄 번호\n",
    "for mark in marks:            # 90, 25, 67, 45, 80을 순서대로 mark에 대입\n",
    "    number = number + 1\n",
    "    if mark >= 60:\n",
    "        print(\"%d번 학생은 합격입니다.\" % number)\n",
    "    else:\n",
    "        print(\"%d번 학생은 불합격입니다.\" % number)"
   ]
  },
  {
   "cell_type": "code",
   "execution_count": 52,
   "metadata": {},
   "outputs": [
    {
     "name": "stdout",
     "output_type": "stream",
     "text": [
      "1번 학생 축하합니다. 합격입니다.\n",
      "3번 학생 축하합니다. 합격입니다.\n",
      "5번 학생 축하합니다. 합격입니다.\n"
     ]
    }
   ],
   "source": [
    "# for 문과 coutinue 문\n",
    "marks = [90, 25, 67, 45, 80]\n",
    "\n",
    "number = 0\n",
    "for mark in marks:\n",
    "    number = number + 1\n",
    "    if mark < 60:\n",
    "        continue\n",
    "    print(\"%d번 학생 축하합니다. 합격입니다.\" % number)\n",
    "    "
   ]
  },
  {
   "cell_type": "code",
   "execution_count": 53,
   "metadata": {},
   "outputs": [
    {
     "name": "stdout",
     "output_type": "stream",
     "text": [
      "range(0, 10)\n",
      "range(1, 11)\n"
     ]
    }
   ],
   "source": [
    "# for 문과 함께 자주 사용하는 range\n",
    "a = range(10)    # 0 ~ 9\n",
    "print(a)\n",
    "a = range(1, 11) # 1~ 10\n",
    "print(a)"
   ]
  },
  {
   "cell_type": "code",
   "execution_count": 54,
   "metadata": {},
   "outputs": [
    {
     "data": {
      "text/plain": [
       "55"
      ]
     },
     "execution_count": 54,
     "metadata": {},
     "output_type": "execute_result"
    }
   ],
   "source": [
    "# range 함수의 예시 살펴보기\n",
    "add = 0\n",
    "for i in range(1, 11):   # 1 ~ 10\n",
    "    add = add + i        # 1 ~ 10까지 더한 값\n",
    "add     # 1 + 2 + 3 + 4 + ... + 9 + 10 = 55"
   ]
  },
  {
   "cell_type": "code",
   "execution_count": 55,
   "metadata": {},
   "outputs": [
    {
     "name": "stdout",
     "output_type": "stream",
     "text": [
      "1번 학생 축하합니다. 합격입니다.\n",
      "3번 학생 축하합니다. 합격입니다.\n",
      "5번 학생 축하합니다. 합격입니다.\n"
     ]
    }
   ],
   "source": [
    "# range 함수와 리스트 자료형 같이 사용하기\n",
    "marks = [90, 25, 67, 45, 80]\n",
    "for number in range(len(marks)):\n",
    "    if marks[number] < 60:\n",
    "        continue\n",
    "    print(\"%d번 학생 축하합니다. 합격입니다.\" % (number+1))"
   ]
  },
  {
   "cell_type": "code",
   "execution_count": 56,
   "metadata": {},
   "outputs": [
    {
     "name": "stdout",
     "output_type": "stream",
     "text": [
      "1\n",
      "3\n",
      "5\n",
      "7\n",
      "9\n"
     ]
    }
   ],
   "source": [
    "# 인수 3개가 있는 range함수 사용하기\n",
    "\n",
    "for a in range(1, 10, 2):    # 증가가 2인 9까지의 리스트\n",
    "    print(a)"
   ]
  },
  {
   "cell_type": "code",
   "execution_count": 57,
   "metadata": {},
   "outputs": [
    {
     "name": "stdout",
     "output_type": "stream",
     "text": [
      "2단: 2 4 6 8 10 12 14 16 18 \n",
      "3단: 3 6 9 12 15 18 21 24 27 \n",
      "4단: 4 8 12 16 20 24 28 32 36 \n",
      "5단: 5 10 15 20 25 30 35 40 45 \n",
      "6단: 6 12 18 24 30 36 42 48 54 \n",
      "7단: 7 14 21 28 35 42 49 56 63 \n",
      "8단: 8 16 24 32 40 48 56 64 72 \n",
      "9단: 9 18 27 36 45 54 63 72 81 \n"
     ]
    }
   ],
   "source": [
    "for i in range(2, 10):        # 1번 for문\n",
    "    print(i, \"단: \", sep=\"\", end=\"\")\n",
    "    for j in range(1, 10):    # 2번 for문\n",
    "        print(i * j, end=\" \")\n",
    "    print('')"
   ]
  },
  {
   "cell_type": "code",
   "execution_count": 58,
   "metadata": {},
   "outputs": [
    {
     "name": "stdout",
     "output_type": "stream",
     "text": [
      "[3, 6, 9, 12]\n"
     ]
    }
   ],
   "source": [
    "# 리스트 컴프리렌션 사용하기1\n",
    "a = [1, 2, 3, 4,]\n",
    "result = [num * 3 for num in a]\n",
    "print(result)\n"
   ]
  },
  {
   "cell_type": "code",
   "execution_count": 59,
   "metadata": {},
   "outputs": [
    {
     "name": "stdout",
     "output_type": "stream",
     "text": [
      "[6, 12]\n"
     ]
    }
   ],
   "source": [
    "# 리스트 컴프리랜션 사용하기2\n",
    "a = [1, 2, 3, 4]\n",
    "result = [num * 3 for num in a if num % 2 == 0]\n",
    "print(result)"
   ]
  },
  {
   "cell_type": "code",
   "execution_count": 60,
   "metadata": {},
   "outputs": [
    {
     "name": "stdout",
     "output_type": "stream",
     "text": [
      "[2, 4, 6, 8, 10, 12, 14, 16, 18, 3, 6, 9, 12, 15, 18, 21, 24, 27, 4, 8, 12, 16, 20, 24, 28, 32, 36, 5, 10, 15, 20, 25, 30, 35, 40, 45, 6, 12, 18, 24, 30, 36, 42, 48, 54, 7, 14, 21, 28, 35, 42, 49, 56, 63, 8, 16, 24, 32, 40, 48, 56, 64, 72, 9, 18, 27, 36, 45, 54, 63, 72, 81]\n"
     ]
    }
   ],
   "source": [
    "# 리스트 컴프리헨션 사용하기3\n",
    "# 구구단 의 모든 결과를 리스트에 담기\n",
    "result = [x*y for x in range(2, 10)\n",
    "              for y in range(1, 10)]\n",
    "print(result)\n"
   ]
  },
  {
   "cell_type": "code",
   "execution_count": 61,
   "metadata": {},
   "outputs": [
    {
     "name": "stdout",
     "output_type": "stream",
     "text": [
      "78.88888888888889\n"
     ]
    }
   ],
   "source": [
    "# 문제1\n",
    "# A 합급에 총 10명의 학생이 있다. 이 학생들의 중간고사 점수는 다음과 같다.\n",
    "# [70, 60, 55, 75, 95, 90, 80, 85, 100]\n",
    "# for문을 사용하여 A학급의 평균 점수를 구해보자\n",
    "\n",
    "list = [70, 60, 55, 75, 95, 90, 80, 85,100]\n",
    "\n",
    "count = len(list)   # 점수개수 ->\n",
    "sum = 0\n",
    "\n",
    "for b in list:\n",
    "    sum += b       # 점수의 합계\n",
    "    \n",
    "print(sum / count)"
   ]
  },
  {
   "cell_type": "code",
   "execution_count": 1,
   "metadata": {},
   "outputs": [
    {
     "name": "stdout",
     "output_type": "stream",
     "text": [
      "[2, 6, 10]\n",
      "[2, 6, 10]\n"
     ]
    }
   ],
   "source": [
    "# 문제2\n",
    "# 다음 소스 코드는 리스트의 요소 중에서 홀수만 골라 2를 곱한 값을 result 리스트를 \n",
    "numbers = [1, 2, 3, 4, 5]\n",
    "result = []\n",
    "for n in numbers:\n",
    "    if n % 2 == 1:\n",
    "        result.append(n * 2)\n",
    "print(result)    \n",
    "\n",
    "# 위의 코드를 리스트 컴프리헨션을 사용하여 코드를 작성해 보시오\n",
    "result = [n * 2 for n in numbers if n % 2 == 1]\n",
    "print(result)"
   ]
  },
  {
   "cell_type": "code",
   "execution_count": null,
   "metadata": {},
   "outputs": [],
   "source": []
  }
 ],
 "metadata": {
  "kernelspec": {
   "display_name": "base",
   "language": "python",
   "name": "python3"
  },
  "language_info": {
   "codemirror_mode": {
    "name": "ipython",
    "version": 3
   },
   "file_extension": ".py",
   "mimetype": "text/x-python",
   "name": "python",
   "nbconvert_exporter": "python",
   "pygments_lexer": "ipython3",
   "version": "3.11.9"
  }
 },
 "nbformat": 4,
 "nbformat_minor": 2
}
