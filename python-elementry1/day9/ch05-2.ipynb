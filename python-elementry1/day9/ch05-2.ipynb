{
 "cells": [
  {
   "cell_type": "code",
   "execution_count": 3,
   "metadata": {},
   "outputs": [
    {
     "name": "stdout",
     "output_type": "stream",
     "text": [
      "7\n",
      "2\n"
     ]
    }
   ],
   "source": [
    "# 파이썬의 모듈\n",
    "import mod1 # 같은 디렉토리의 mod1.pt이라는 파일이 있어야함\n",
    "\n",
    "print(mod1.add(3, 4))\n",
    "print(mod1.sub(4, 2))"
   ]
  },
  {
   "cell_type": "code",
   "execution_count": 2,
   "metadata": {},
   "outputs": [
    {
     "name": "stdout",
     "output_type": "stream",
     "text": [
      "7\n",
      "-1\n"
     ]
    }
   ],
   "source": [
    "from mod1 import add, sub\n",
    "\n",
    "print(add(3, 4))  # 3 + 4 = 7\n",
    "print(sub(3, 4))  # 3 - 4 = -1"
   ]
  },
  {
   "cell_type": "code",
   "execution_count": 4,
   "metadata": {},
   "outputs": [],
   "source": [
    "from mod1 import * # mod1.py에 모든 함수 가져오기  "
   ]
  },
  {
   "cell_type": "code",
   "execution_count": 3,
   "metadata": {},
   "outputs": [
    {
     "name": "stdout",
     "output_type": "stream",
     "text": [
      "3.141592\n",
      "12.566368\n",
      "7.5415920000000005\n"
     ]
    }
   ],
   "source": [
    "import mod2 as mod2 \n",
    "\n",
    "print(mod2.PI)       # 변수 호출\n",
    "\n",
    "a = mod2.Math()      # 클래스 호출 \n",
    "print(a.solv(2)) \n",
    "\n",
    "print(mod2.add(mod2.PI, 4.4)) # 함수 배출"
   ]
  },
  {
   "cell_type": "code",
   "execution_count": 9,
   "metadata": {},
   "outputs": [
    {
     "data": {
      "text/plain": [
       "['c:\\\\Users\\\\human-01\\\\python\\\\day9',\n",
       " 'c:\\\\Users\\\\human-01\\\\anaconda3\\\\python311.zip',\n",
       " 'c:\\\\Users\\\\human-01\\\\anaconda3\\\\DLLs',\n",
       " 'c:\\\\Users\\\\human-01\\\\anaconda3\\\\Lib',\n",
       " 'c:\\\\Users\\\\human-01\\\\anaconda3',\n",
       " '',\n",
       " 'c:\\\\Users\\\\human-01\\\\anaconda3\\\\Lib\\\\site-packages',\n",
       " 'c:\\\\Users\\\\human-01\\\\anaconda3\\\\Lib\\\\site-packages\\\\win32',\n",
       " 'c:\\\\Users\\\\human-01\\\\anaconda3\\\\Lib\\\\site-packages\\\\win32\\\\lib',\n",
       " 'c:\\\\Users\\\\human-01\\\\anaconda3\\\\Lib\\\\site-packages\\\\Pythonwin',\n",
       " 'c:/Users/human-01/python',\n",
       " 'c:\\\\Users\\\\human-01\\\\python',\n",
       " 'c:\\\\Users\\\\human-01\\\\python']"
      ]
     },
     "execution_count": 9,
     "metadata": {},
     "output_type": "execute_result"
    }
   ],
   "source": [
    "# 다른 디렉터리에 있는 모듈을 불러오는 방법\n",
    "import sys\n",
    "\n",
    "# C:\\\\Users\\\\human-01\\\\python\\\\240520\n",
    "sys.path.append(\"C:// users/human-01/python\") # mod2.py 모듈 파일 위의 디렉토리에 있어서 세팅\n",
    "sys.path"
   ]
  },
  {
   "cell_type": "code",
   "execution_count": 7,
   "metadata": {},
   "outputs": [
    {
     "name": "stdout",
     "output_type": "stream",
     "text": [
      "7\n"
     ]
    }
   ],
   "source": [
    "import mod2 \n",
    "\n",
    "print(mod2.add (3, 4))"
   ]
  }
 ],
 "metadata": {
  "kernelspec": {
   "display_name": "Python 3",
   "language": "python",
   "name": "python3"
  },
  "language_info": {
   "codemirror_mode": {
    "name": "ipython",
    "version": 3
   },
   "file_extension": ".py",
   "mimetype": "text/x-python",
   "name": "python",
   "nbconvert_exporter": "python",
   "pygments_lexer": "ipython3",
   "version": "3.11.7"
  }
 },
 "nbformat": 4,
 "nbformat_minor": 2
}
