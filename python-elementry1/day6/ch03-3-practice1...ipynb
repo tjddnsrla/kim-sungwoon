{
 "cells": [
  {
   "cell_type": "code",
   "execution_count": 1,
   "metadata": {},
   "outputs": [
    {
     "name": "stdout",
     "output_type": "stream",
     "text": [
      "*\n",
      "**\n",
      "***\n",
      "****\n",
      "*****\n",
      "******\n"
     ]
    }
   ],
   "source": [
    "# for문 별 그리고 문제1\n",
    "\n",
    "# 전제조건\n",
    "# *을 그리는 print함수안의 *는 무조건 1개만 되도록 한다\n",
    "\n",
    "# 문제1\n",
    "# for문 혹은 이중 for문을 이용해서 아래와 같은 별을 그리는 코드를 작성하시오\n",
    "# *\n",
    "# **\n",
    "# ***\n",
    "# ****\n",
    "# *****\n",
    "# ******\n",
    "\n",
    "# for a in range(5):  0 ~ 4 -> 1 ~ 5\n",
    "#     print(\"*\" * (i + 1))\n",
    "# print()\n",
    "\n",
    "# for a in range(1, 6):  # 1 ~ 5\n",
    "#       for b in range(i):\n",
    "#           print(\"*\", end = \"\")\n",
    "#       print()  # 한 줄 띄우기 \n",
    "for a in range(1, 7):\n",
    "    print((a) * \"*\")"
   ]
  },
  {
   "cell_type": "code",
   "execution_count": 3,
   "metadata": {},
   "outputs": [
    {
     "name": "stdout",
     "output_type": "stream",
     "text": [
      "      *\n",
      "     **\n",
      "    ***\n",
      "   ****\n",
      "  *****\n",
      " ******\n"
     ]
    }
   ],
   "source": [
    "# 문제2\n",
    "# for문 혹은 이중 for문을 이용해서 아래와 같은 별을 그리는 코드를 작성하시오\n",
    "#      *\n",
    "#     **\n",
    "#    ***\n",
    "#   ****\n",
    "#  *****\n",
    "# ******\n",
    "\n",
    "# for a in range(5):   # 0 ~ 4\n",
    "#     print(\" \" * (5 - (a + 1)), end = \"\")\n",
    "#     print(\"*\" * (a + 1))\n",
    "for a in range(1, 7):\n",
    "    for b in range(7-a):\n",
    "        print(\" \", end= \"\")\n",
    "    for b in range(a):\n",
    "        print(\"*\", end='')\n",
    "    print()"
   ]
  },
  {
   "cell_type": "code",
   "execution_count": 212,
   "metadata": {},
   "outputs": [
    {
     "name": "stdout",
     "output_type": "stream",
     "text": [
      "****** \n",
      "*****  \n",
      "****   \n",
      "***    \n",
      "**     \n",
      "*      \n"
     ]
    }
   ],
   "source": [
    "# 문제3\n",
    "# for문 혹은 이중 for문을 이용해서 아래와 같은 별을 그리는 코드를 작성하시오\n",
    "# ******\n",
    "# *****\n",
    "# ****\n",
    "# ***\n",
    "# **\n",
    "# *\n",
    "\n",
    "# for a in range(1, 6):         1 ~ 5\n",
    "#     for b in range(6 - a):    1 ~ 5   *를 출력\n",
    "#         print(\"*\", end = \"\")\n",
    "#     for b in range(a):        a값에 따라 b가 변함 -> 빈 공백 출력\n",
    "#         print(\" \", end = \"\")\n",
    "#     print()\n",
    "\n",
    "# print()\n",
    "\n",
    "# for a in range(1, 6):\n",
    "#       for b in range(6 - a):\n",
    "#            print(\"*\", end = \"\")\n",
    "#       print()\n",
    "for a in range(6, 0, -1):\n",
    "    for b in range(a):\n",
    "        print(\"*\", end=\"\")\n",
    "    for b in range(7-a):\n",
    "        print(\" \", end=\"\")\n",
    "    print()"
   ]
  },
  {
   "cell_type": "code",
   "execution_count": 4,
   "metadata": {},
   "outputs": [
    {
     "name": "stdout",
     "output_type": "stream",
     "text": [
      "     *\n",
      "    ***\n",
      "   *****\n",
      "  *******\n",
      " *********\n",
      "***********\n"
     ]
    }
   ],
   "source": [
    "# 문제4\n",
    "# for문 혹은 이중 for문을 이용해서 아래와 같은 별을 그리는 코드를 작성하시오\n",
    "#     *\n",
    "#    ***\n",
    "#   *****\n",
    "#  *******\n",
    "# *********\n",
    "\n",
    "# for a in range(1, 6):\n",
    "#     for b in range(5 - a):     # 줄 라인 a에 따라 빈 공백 출력\n",
    "#         print(\" \", end= \"\")\n",
    "#     for b in range(2 * a - 1):  # 홀수 개수만큼 *출력)\n",
    "#         print(\"*\", end = \"\")\n",
    "#     print()\n",
    "for a in range(1, 7):\n",
    "    for b in range(6-a):\n",
    "        print(\" \",end=\"\")\n",
    "    for b in range(2*(a)-1):\n",
    "        print(\"*\",end=\"\")\n",
    "    print()"
   ]
  },
  {
   "cell_type": "code",
   "execution_count": 487,
   "metadata": {},
   "outputs": [
    {
     "name": "stdout",
     "output_type": "stream",
     "text": [
      "[7, 18, 31, 37, 41, 43]\n"
     ]
    }
   ],
   "source": [
    "# 문제5\n",
    "# 로또번호 생성 프로그램 제작. 로또 생성 프로그램은 아래 조건을 만족해야 한다.\n",
    "# (1) 1~45 숫자 중 6개의 숫자가 나와야 한다.\n",
    "# (2) 중복된 숫자가 나와서는 안된다. 4 4 15 1 3 6 -> x\n",
    "\n",
    "# while 1 == 1:                         \n",
    "#     if len(a) == 6:\n",
    "#        break\n",
    "#     else:\n",
    "#         a = []\n",
    "#         for i in range(6):\n",
    "#             a.append(random.randunt(1, 45))\n",
    "#         a = list(set(a))\n",
    "\n",
    "#         if len(a) < 6:\n",
    "#             print(\"중복된 로또번호의 리스트\", a)\n",
    "\n",
    "# print(a)\n",
    "\n",
    "import random                           # 라이브러리에서 랜덤 생성\n",
    "\n",
    "a = []                                  # 무작위 숫자를 저장할 리스트 \n",
    "while len(a) < 6:                       # 리스트의 범위\n",
    "    b = random.randint(1, 45)\n",
    "    if b not in a:                      # 중복 숫자 방지\n",
    "        a.append(b)                     # append = 추가(a에 b를 추가)\n",
    "a.sort()                                # sort = 오름차순 정렬\n",
    "print(a)                                # 결과 출력"
   ]
  },
  {
   "cell_type": "code",
   "execution_count": 1,
   "metadata": {},
   "outputs": [
    {
     "name": "stdout",
     "output_type": "stream",
     "text": [
      "[1, 4, 11, 12, 13, 31]\n"
     ]
    }
   ],
   "source": [
    "import random\n",
    "\n",
    "a = []\n",
    "for i in range(6):\n",
    "    b = random.randint(1, 45)\n",
    "    while b in a:\n",
    "        b = random.randint(1, 45)\n",
    "    a.append(b)\n",
    "        \n",
    "a.sort()\n",
    "print(a)"
   ]
  },
  {
   "cell_type": "code",
   "execution_count": null,
   "metadata": {},
   "outputs": [],
   "source": []
  },
  {
   "cell_type": "code",
   "execution_count": null,
   "metadata": {},
   "outputs": [],
   "source": []
  }
 ],
 "metadata": {
  "kernelspec": {
   "display_name": "base",
   "language": "python",
   "name": "python3"
  },
  "language_info": {
   "codemirror_mode": {
    "name": "ipython",
    "version": 3
   },
   "file_extension": ".py",
   "mimetype": "text/x-python",
   "name": "python",
   "nbconvert_exporter": "python",
   "pygments_lexer": "ipython3",
   "version": "3.11.9"
  }
 },
 "nbformat": 4,
 "nbformat_minor": 2
}
