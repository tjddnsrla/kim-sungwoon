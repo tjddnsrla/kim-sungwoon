{
 "cells": [
  {
   "cell_type": "code",
   "execution_count": 216,
   "metadata": {},
   "outputs": [],
   "source": [
    "# 그 이전 학습 복습 내용\n",
    "# [] -> 리스트: 추가, 수정, 순서, 중복 가능\n",
    "# () -> 튜플: 추가, 삭제 불가능, 순서, 중복 가능\n",
    "# {} -> 딕셔너리: 추가, 수정, 삭제 가능, 순서, 중복 불가능"
   ]
  },
  {
   "cell_type": "code",
   "execution_count": 214,
   "metadata": {},
   "outputs": [
    {
     "name": "stdout",
     "output_type": "stream",
     "text": [
      "{1, 2, 3}\n",
      "{1, 2, 3}\n"
     ]
    }
   ],
   "source": [
    "# 집합 자료형(set) 특징\n",
    "# 1. 중복을 허용하지 않는다.\n",
    "# 2. 순서가 없다(unordered)\n",
    "s1 = set([1, 2, 3])  \n",
    "print(s1)\n",
    "s2 = {1, 2, 3}\n",
    "print(s2)"
   ]
  },
  {
   "cell_type": "code",
   "execution_count": 217,
   "metadata": {},
   "outputs": [
    {
     "name": "stdout",
     "output_type": "stream",
     "text": [
      "{'l', 'e', 'o', 'H'}\n"
     ]
    }
   ],
   "source": [
    "s2 = set(\"Hello\")\n",
    "print(s2)"
   ]
  },
  {
   "cell_type": "code",
   "execution_count": 220,
   "metadata": {},
   "outputs": [
    {
     "name": "stdout",
     "output_type": "stream",
     "text": [
      "{1, 2, 3}\n",
      "(1, 2, 2, 3)\n"
     ]
    }
   ],
   "source": [
    "s2 = {1, 2, 2, 3}\n",
    "print(s2)\n",
    "s3 = (1, 2, 2, 3)\n",
    "print(s3)\n"
   ]
  },
  {
   "cell_type": "code",
   "execution_count": 221,
   "metadata": {},
   "outputs": [
    {
     "data": {
      "text/plain": [
       "1"
      ]
     },
     "execution_count": 221,
     "metadata": {},
     "output_type": "execute_result"
    }
   ],
   "source": [
    "s3[0] # 리스트"
   ]
  },
  {
   "cell_type": "code",
   "execution_count": 224,
   "metadata": {},
   "outputs": [
    {
     "ename": "TypeError",
     "evalue": "'set' object is not subscriptable",
     "output_type": "error",
     "traceback": [
      "\u001b[1;31m---------------------------------------------------------------------------\u001b[0m",
      "\u001b[1;31mTypeError\u001b[0m                                 Traceback (most recent call last)",
      "Cell \u001b[1;32mIn[224], line 1\u001b[0m\n\u001b[1;32m----> 1\u001b[0m \u001b[43ms2\u001b[49m\u001b[43m[\u001b[49m\u001b[38;5;241;43m0\u001b[39;49m\u001b[43m]\u001b[49m \u001b[38;5;66;03m# 집합 -> error\u001b[39;00m\n",
      "\u001b[1;31mTypeError\u001b[0m: 'set' object is not subscriptable"
     ]
    }
   ],
   "source": [
    "s2[0] # 집합 -> error\n"
   ]
  },
  {
   "cell_type": "code",
   "execution_count": 225,
   "metadata": {},
   "outputs": [
    {
     "name": "stdout",
     "output_type": "stream",
     "text": [
      "1\n",
      "[1, 2, 3]\n"
     ]
    },
    {
     "data": {
      "text/plain": [
       "(1, 2, 3)"
      ]
     },
     "execution_count": 225,
     "metadata": {},
     "output_type": "execute_result"
    }
   ],
   "source": [
    "s2 = {1, 2, 2, 3}\n",
    "l2 = list(s2)\n",
    "\n",
    "print(l2[0])\n",
    "print(l2)\n",
    "\n",
    "t2 = tuple(s2)\n",
    "t2"
   ]
  },
  {
   "cell_type": "code",
   "execution_count": 226,
   "metadata": {},
   "outputs": [],
   "source": [
    "s1 = set([1, 2, 3, 4, 5, 6])\n",
    "s2 = set([4, 5, 6, 7, 8, 9])"
   ]
  },
  {
   "cell_type": "code",
   "execution_count": 231,
   "metadata": {},
   "outputs": [
    {
     "name": "stdout",
     "output_type": "stream",
     "text": [
      "{4, 5, 6}\n"
     ]
    },
    {
     "data": {
      "text/plain": [
       "{4, 5, 6}"
      ]
     },
     "execution_count": 231,
     "metadata": {},
     "output_type": "execute_result"
    }
   ],
   "source": [
    "# 교집합 구하기\n",
    "print(s1 & s2)\n",
    "s1.intersection(s2)"
   ]
  },
  {
   "cell_type": "code",
   "execution_count": 311,
   "metadata": {},
   "outputs": [
    {
     "name": "stdout",
     "output_type": "stream",
     "text": [
      "{4, 5, 6}\n"
     ]
    },
    {
     "data": {
      "text/plain": [
       "{1, 2, 3, 4, 5, 6, 7, 8, 9}"
      ]
     },
     "execution_count": 311,
     "metadata": {},
     "output_type": "execute_result"
    }
   ],
   "source": [
    "# 합집합 구하기\n",
    "print(s1 & s2)\n",
    "s1.union(s2)"
   ]
  },
  {
   "cell_type": "code",
   "execution_count": 312,
   "metadata": {},
   "outputs": [
    {
     "name": "stdout",
     "output_type": "stream",
     "text": [
      "{1, 2, 3}\n",
      "{8, 9, 7}\n",
      "{1, 2, 3}\n",
      "{8, 9, 7}\n"
     ]
    }
   ],
   "source": [
    "# 차집합 구하기\n",
    "print(s1 - s2)               # s1기준으로 s2를 원소를 뺀다\n",
    "print(s2 - s1)               # s2기준으로 s2를 원소를 뺀다\n",
    "print(s1.difference(s2))     # s1기준으로 s2를 원소를 뺀다\n",
    "print(s2.difference(s1))     # s2기준으로 s2를 원소를 뺀다"
   ]
  },
  {
   "cell_type": "code",
   "execution_count": 316,
   "metadata": {},
   "outputs": [
    {
     "data": {
      "text/plain": [
       "{1, 2, 3, 4}"
      ]
     },
     "execution_count": 316,
     "metadata": {},
     "output_type": "execute_result"
    }
   ],
   "source": [
    "# 집합 자료형 관련 함수\n",
    "# 1. add함수 비슷한 거: append, insert\n",
    "s1 = set([1, 2, 3])\n",
    "s1.add(4)\n",
    "s1"
   ]
  },
  {
   "cell_type": "code",
   "execution_count": 315,
   "metadata": {},
   "outputs": [
    {
     "data": {
      "text/plain": [
       "{1, 2, 3, 4, 5, 6}"
      ]
     },
     "execution_count": 315,
     "metadata": {},
     "output_type": "execute_result"
    }
   ],
   "source": [
    "# 2.값 여러 개 추가하기 - update\n",
    "s1 = set([1, 2, 3])   #s1 = set([1, 2, '3'])\n",
    "s1.update([4, 5, 6,]) #s1.update(['3', 4, 5, 6]) \n",
    "s1"
   ]
  },
  {
   "cell_type": "code",
   "execution_count": 328,
   "metadata": {},
   "outputs": [
    {
     "data": {
      "text/plain": [
       "{1, 3}"
      ]
     },
     "execution_count": 328,
     "metadata": {},
     "output_type": "execute_result"
    }
   ],
   "source": [
    "# 3. 특정 값 제거하기 - remove\n",
    "s1=set([1, 2, 3])\n",
    "s1.remove(2)\n",
    "s1"
   ]
  },
  {
   "cell_type": "code",
   "execution_count": 335,
   "metadata": {},
   "outputs": [
    {
     "data": {
      "text/plain": [
       "0"
      ]
     },
     "execution_count": 335,
     "metadata": {},
     "output_type": "execute_result"
    }
   ],
   "source": [
    "#문제1\n",
    "#자연수 13이 홀수인지 짝수인지 판별할 수 있는 방법에 대해서 적어보시오\n",
    "a = 14\n",
    "# a & 2 나머지가 8인 것은 짝수이고 나머지가 1인 것은 홀수\n",
    "a = a % 2\n",
    "a"
   ]
  },
  {
   "cell_type": "code",
   "execution_count": 341,
   "metadata": {},
   "outputs": [
    {
     "data": {
      "text/plain": [
       "'1'"
      ]
     },
     "execution_count": 341,
     "metadata": {},
     "output_type": "execute_result"
    }
   ],
   "source": [
    "#문제2\n",
    "# 주민등록번호 뒷 자리 맨 첫번째 숫자가 성별을 나타낸다.\n",
    "#(ex) 880211-1345211\n",
    "# 주민등록번호에서 성별을 나타내는 숫자를 출력\n",
    "a = \"880211-1345211\"\n",
    "a[7]"
   ]
  },
  {
   "cell_type": "code",
   "execution_count": 331,
   "metadata": {},
   "outputs": [
    {
     "data": {
      "text/plain": [
       "[1, 2, 3, 4, 5]"
      ]
     },
     "execution_count": 331,
     "metadata": {},
     "output_type": "execute_result"
    }
   ],
   "source": [
    "# 문제3\n",
    "# a리스트에서 중복 숫자를 제거해 보자\n",
    "a = [1, 1, 1, 2, 2, 3, 3, 3, 4, 4, 5]\n",
    "# 첫번째 코드 -> a리스트를 집합 자료형으로 변환하는 코드를 작성\n",
    "a = [1, 1, 1, 2, 2, 3, 3, 3, 4, 4, 5]\n",
    "a= set(a)\n",
    "# 두번째 코드 -> 집합 자료형을 리스트 자료형으로 다시 변환하는 코드를 작성\n",
    "a = list(a)\n",
    "a"
   ]
  }
 ],
 "metadata": {
  "kernelspec": {
   "display_name": "Python 3",
   "language": "python",
   "name": "python3"
  },
  "language_info": {
   "codemirror_mode": {
    "name": "ipython",
    "version": 3
   },
   "file_extension": ".py",
   "mimetype": "text/x-python",
   "name": "python",
   "nbconvert_exporter": "python",
   "pygments_lexer": "ipython3",
   "version": "3.11.9"
  }
 },
 "nbformat": 4,
 "nbformat_minor": 2
}
