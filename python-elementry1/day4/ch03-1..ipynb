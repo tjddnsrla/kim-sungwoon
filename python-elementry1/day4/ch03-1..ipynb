{
 "cells": [
  {
   "cell_type": "code",
   "execution_count": 9,
   "metadata": {},
   "outputs": [
    {
     "name": "stdout",
     "output_type": "stream",
     "text": [
      "택시를 타고 가라\n"
     ]
    }
   ],
   "source": [
    "# if 제어문\n",
    "# ‘돈이 있으면 택시를 타고 가고, 돈이 없으면 걸어간다.’\n",
    "money = True\n",
    "if money:\n",
    "    print(\"택시를 타고 가라\")\n",
    "else:\n",
    "    print(\"걸어 가라\")"
   ]
  },
  {
   "cell_type": "code",
   "execution_count": 8,
   "metadata": {},
   "outputs": [
    {
     "name": "stdout",
     "output_type": "stream",
     "text": [
      "걸어 가라\n",
      "걸어가면 다리가 아파\n"
     ]
    }
   ],
   "source": [
    "# if 문의 기본 구조\n",
    "money = False\n",
    "if money:\n",
    "    print(\"택시를 타고 가라\")\n",
    "    print(\"알겠어\")\n",
    "else:\n",
    "    print(\"걸어 가라\")\n",
    "    print(\"걸어가면 다리가 아파\")"
   ]
  },
  {
   "cell_type": "code",
   "execution_count": null,
   "metadata": {},
   "outputs": [],
   "source": [
    "# 들여쓰기 방법 알아보기\n",
    "# error 케이스1\n",
    "money = True\n",
    "if money:\n",
    "    print(\"택시를\")\n",
    "print(\"타고\")\n",
    "    print(\"가라\")        # error"
   ]
  },
  {
   "cell_type": "code",
   "execution_count": null,
   "metadata": {},
   "outputs": [],
   "source": [
    "# error 케이스2\n",
    "money = True\n",
    "if money:\n",
    "    print(\"택시를\")\n",
    "    print(\"타고\")\n",
    "        print(\"가라\")   # error"
   ]
  },
  {
   "cell_type": "code",
   "execution_count": 13,
   "metadata": {},
   "outputs": [
    {
     "name": "stdout",
     "output_type": "stream",
     "text": [
      "True\n",
      "False\n",
      "True\n"
     ]
    }
   ],
   "source": [
    "x = 3\n",
    "y = 2\n",
    "\n",
    "print(x > y)    # True\n",
    "print(x == y)   # False\n",
    "print(x != y)   # True"
   ]
  },
  {
   "cell_type": "code",
   "execution_count": null,
   "metadata": {},
   "outputs": [],
   "source": [
    "# 만약 3000원 이상의 돈을 가지고 있으면 \n",
    "# 택시를 타고 가고, 그렇지 않으면 걸어가라.\n",
    "# 위의 문장을 if문 코드로 작성하기\n",
    "money = 2000  # money변수는 돈을 가리킴\n",
    "if money >= 3000:\n",
    "    print(\"택시를 타고 가라\")\n",
    "else:\n",
    "    print(\"걸어가라\")"
   ]
  },
  {
   "cell_type": "code",
   "execution_count": null,
   "metadata": {},
   "outputs": [],
   "source": [
    "# 논리 연산자(and, or, not)\n",
    "money = 2000\n",
    "card = True\n",
    "if money >= 3000 or card:  # or연산자는 피연산자 중 하나만 참이어도 참\n",
    "    print(\"택시를 타고 가라\")\n",
    "else:\n",
    "    print(\"걸어가라\")"
   ]
  },
  {
   "cell_type": "code",
   "execution_count": null,
   "metadata": {},
   "outputs": [],
   "source": [
    "# 문제1\n",
    "# 아래 코드의 결과를 예상하라\n",
    "x = 4\n",
    "print(1 < x < 5) # True"
   ]
  },
  {
   "cell_type": "code",
   "execution_count": null,
   "metadata": {},
   "outputs": [],
   "source": [
    "# 문제2\n",
    "# 아래 코드의 결과를 예상하라\n",
    "print((3 == 3) and (4 != 3))  # True and True = True"
   ]
  },
  {
   "cell_type": "code",
   "execution_count": null,
   "metadata": {},
   "outputs": [],
   "source": [
    "# 문제3\n",
    "# 아래 코드에서 에러가 발생하는 원인에 대해 설명\n",
    "print(3 >= 4)"
   ]
  },
  {
   "cell_type": "code",
   "execution_count": 16,
   "metadata": {},
   "outputs": [
    {
     "name": "stdout",
     "output_type": "stream",
     "text": [
      "1\n",
      "2\n",
      "4\n"
     ]
    }
   ],
   "source": [
    "# 문제4\n",
    "# 아래 코드의 결과를 예상하라\n",
    "if True:\n",
    "    print(\"1\")\n",
    "    print(\"2\")\n",
    "else:\n",
    "    print(\"3\")\n",
    "print(\"4\")"
   ]
  },
  {
   "cell_type": "code",
   "execution_count": 19,
   "metadata": {},
   "outputs": [
    {
     "data": {
      "text/plain": [
       "True"
      ]
     },
     "execution_count": 19,
     "metadata": {},
     "output_type": "execute_result"
    }
   ],
   "source": [
    "1 in (1, 2, 3)      # 튜플"
   ]
  },
  {
   "cell_type": "code",
   "execution_count": 18,
   "metadata": {},
   "outputs": [
    {
     "data": {
      "text/plain": [
       "False"
      ]
     },
     "execution_count": 18,
     "metadata": {},
     "output_type": "execute_result"
    }
   ],
   "source": [
    "1 not in [1, 2, 3]  # 리스트"
   ]
  },
  {
   "cell_type": "code",
   "execution_count": 20,
   "metadata": {},
   "outputs": [
    {
     "data": {
      "text/plain": [
       "True"
      ]
     },
     "execution_count": 20,
     "metadata": {},
     "output_type": "execute_result"
    }
   ],
   "source": [
    "'j' not in 'python'  # 문자열"
   ]
  },
  {
   "cell_type": "code",
   "execution_count": 22,
   "metadata": {},
   "outputs": [
    {
     "name": "stdout",
     "output_type": "stream",
     "text": [
      "택시를 타고 가라\n"
     ]
    }
   ],
   "source": [
    "pocket = ['paper', 'cellphone', 'money']\n",
    "if 'money' in pocket:\n",
    "    print(\"택시를 타고 가라\")\n",
    "else:\n",
    "    print(\"걸어가라\")"
   ]
  },
  {
   "cell_type": "code",
   "execution_count": 23,
   "metadata": {},
   "outputs": [],
   "source": [
    "pocket = ['paper', 'money', 'cellphone']\n",
    "if 'money' in pocket:\n",
    "    pass\n",
    "else:\n",
    "    print(\"카드를 꺼내라\")\n",
    "\n",
    "if 'money' not in pocket:\n",
    "    print(\"카드를 꺼내라\")"
   ]
  },
  {
   "cell_type": "code",
   "execution_count": 24,
   "metadata": {},
   "outputs": [
    {
     "name": "stdout",
     "output_type": "stream",
     "text": [
      "택시를 타고가라\n"
     ]
    }
   ],
   "source": [
    "# 다양한 조건을 판단하는 elif\n",
    "\n",
    "# 주머니에 돈이 있으면 택시를 타고 가고, \n",
    "# 주머니에 돈은 없지만 카드가 있으면 택시를 타고 가고, \n",
    "# 돈도 없고 카드도 없으면 걸어가라.\n",
    "\n",
    "pocket = ['paper', 'cellphone']\n",
    "card = True\n",
    "if 'money' in pocket:\n",
    "    print(\"택시를 타고가라\")\n",
    "else:\n",
    "    if card:\n",
    "        print(\"택시를 타고가라\")\n",
    "    else:\n",
    "        print(\"걸어가라\")\n",
    "\n",
    "\n",
    "samsung_pay1 = True\n",
    "if 'money' in pocket:\n",
    "     print(\"택시를 타고가라\")\n",
    "elif card: \n",
    "     print(\"택시를 타고가라\")\n",
    "elif samsung_pay1: \n",
    "     print(\"택시를 타고가라\")     \n",
    "else:\n",
    "     print(\"걸어가라\")   \n",
    "\n",
    "\n",
    "if ('money' in pocket) or card or samsung_pay1: \n",
    "    print(\"택시를 타고가라\")\n",
    "else: \n",
    "    print(\"걸어가라\")        \n"
   ]
  },
  {
   "cell_type": "code",
   "execution_count": 25,
   "metadata": {},
   "outputs": [],
   "source": [
    "# if 문을 한 줄로 작성하기\n",
    "pocket = ['paper', 'money', 'cellphone']\n",
    "if 'money' in pocket: pass\n",
    "else: print(\"카드를 꺼내라\")"
   ]
  },
  {
   "cell_type": "code",
   "execution_count": null,
   "metadata": {},
   "outputs": [],
   "source": [
    "# 조건부 표현식(변수 = 조건문이_참인_경우의_값 if 조건문 else 조건문이_거짓인_경우의_값)\n",
    "score = 70\n",
    "message = \"success\" if score >= 60 else \"failure\""
   ]
  },
  {
   "cell_type": "code",
   "execution_count": 4,
   "metadata": {},
   "outputs": [
    {
     "name": "stdout",
     "output_type": "stream",
     "text": [
      "입력값 타입 <class 'str'>\n",
      "입력값 123\n"
     ]
    }
   ],
   "source": [
    "# input함수(리턴값은 어떤 타입?)\n",
    "user_input = input(\"입력값을 작성하세요: \")\n",
    "print('입력값 타입', type(user_input))\n",
    "print(\"입력값\", user_input)"
   ]
  },
  {
   "cell_type": "code",
   "execution_count": 5,
   "metadata": {},
   "outputs": [
    {
     "name": "stdout",
     "output_type": "stream",
     "text": [
      "안녕하세요안녕하세요\n"
     ]
    }
   ],
   "source": [
    "# 문제5\n",
    "# 사용자로부터 입력받은 문자열을 2번 출력하는 코드를 작성하시오.\n",
    "#   ex) 안녕하세요 -> 안녕하세요안녕하세요\n",
    "user_input = input()\n",
    "print(user_input * 2)"
   ]
  },
  {
   "cell_type": "code",
   "execution_count": null,
   "metadata": {},
   "outputs": [],
   "source": [
    "# 문제6\n",
    "# 사용자로부터 하나의 숫자를 입력받고, 입력 받은 숫자에 10을 더해 출력하라.(int함수 사용)\n",
    "\n",
    "# 문제7\n",
    "# 사용자로부터 하나의 숫자를 입력 받고 짝수이면 \"짝수\" 출력, 홀수이면 \"홀수\" 출력\n",
    "\n",
    "# 문제8\n",
    "# 사용자로부터 숫자 값을 입력받은 후 값에 20을 더한 값을 출력하라\n",
    "# 단, 사용자가 입력한 값과 20을 더한 계산 값이 255를 초과하는 경우 255를 출력\n",
    "\n",
    "# 문제9\n",
    "# 사용자로부터 숫자 값을 입력받은 후 값에 20을 뺀 값을 출력하라\n",
    "# 단, 출력 값의 범위는 0~255이다. 예를 들어 결과값이 0보다 작은 값이 되는 경우 0을 출력하고\n",
    "# 255보다 큰 값이 되는 경우 255를 출력하라\n",
    "\n",
    "# 문제10\n",
    "# 사용자로부터 입력 받은 시간이 정각인지 판별하라\n",
    "# ex) 출력예시: 입력 -> 02:00    출력 -> 정각입니다.\n",
    "#              입력 -> 03:10    출력 -> 정각이 아닙니다."
   ]
  },
  {
   "cell_type": "code",
   "execution_count": null,
   "metadata": {},
   "outputs": [],
   "source": [
    "# 문제6\n",
    "# 사용자로부터 하나의 숫자를 입력받고, 입력 받은 숫자에 10을 더해 출력하라.(int함수 사용)\n",
    "user_number = input(\"숫자를 입력하세요: \")\n",
    "int(user_number) + 10"
   ]
  },
  {
   "cell_type": "code",
   "execution_count": null,
   "metadata": {},
   "outputs": [],
   "source": [
    "# 문제7\n",
    "# 사용자로부터 하나의 숫자를 입력 받고 짝수이면 \"짝수\" 출력, 홀수이면 \"홀수\" 출력\n",
    "user_number = input(\"숫자를 입력하세요: \")\n",
    "\n",
    "if int(user_number) % 2 == 0: print(\"짝수\")\n",
    "else: print(\"홀수\")"
   ]
  },
  {
   "cell_type": "code",
   "execution_count": null,
   "metadata": {},
   "outputs": [],
   "source": [
    "# 문제8\n",
    "# 사용자로부터 숫자 값을 입력받은 후 값에 20을 더한 값을 출력하라\n",
    "# 단, 사용자가 입력한 값과 20을 더한 계산 값이 255를 초과하는 경우 255를 출력\n",
    "user_number = input(\"숫자를 입력하세요: \")\n",
    "a = int(user_number) + 20\n",
    "\n",
    "if a <= 255: print(a)\n",
    "else: print(255)"
   ]
  },
  {
   "cell_type": "code",
   "execution_count": null,
   "metadata": {},
   "outputs": [],
   "source": [
    "# 문제9\n",
    "# 사용자로부터 숫자 값을 입력받은 후 값에 20을 뺀 값을 출력하라\n",
    "# 단, 출력 값의 범위는 0~255이다. 예를 들어 결과값이 0보다 작은 값이 되는 경우 0을 출력하고\n",
    "# 255보다 큰 값이 되는 경우 255를 출력하라\n",
    "user_number = input(\"숫자를 입력하세요: \")\n",
    "a = int(user_number) - 20\n",
    "\n",
    "if a > 255: print(255)\n",
    "elif a < 0: print(0)\n",
    "else: print(a)"
   ]
  },
  {
   "cell_type": "code",
   "execution_count": null,
   "metadata": {},
   "outputs": [],
   "source": [
    "# 문제10\n",
    "# 사용자로부터 입력 받은 시간이 정각인지 판별하라\n",
    "# ex) 출력예시: 입력 -> 02:00    출력 -> 정각입니다.\n",
    "#              입력 -> 03:10    출력 -> 정각이 아닙니다.\n",
    "time = input(\"현재시간: \")\n",
    "\n",
    "if time[-2:] == \"00\": print(\"정각입니다.\")\n",
    "else: print(\"정각이 아닙니다.\")"
   ]
  }
 ],
 "metadata": {
  "kernelspec": {
   "display_name": "base",
   "language": "python",
   "name": "python3"
  },
  "language_info": {
   "codemirror_mode": {
    "name": "ipython",
    "version": 3
   },
   "file_extension": ".py",
   "mimetype": "text/x-python",
   "name": "python",
   "nbconvert_exporter": "python",
   "pygments_lexer": "ipython3",
   "version": "3.11.7"
  }
 },
 "nbformat": 4,
 "nbformat_minor": 2
}
