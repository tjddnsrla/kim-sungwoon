{
 "cells": [
  {
   "cell_type": "code",
   "execution_count": 1,
   "id": "0a578d8c-4468-466b-a233-83f73e17ef52",
   "metadata": {},
   "outputs": [
    {
     "name": "stdout",
     "output_type": "stream",
     "text": [
      "Hello World\n"
     ]
    }
   ],
   "source": [
    "print(\"Hello World\")"
   ]
  },
  {
   "cell_type": "code",
   "execution_count": 4,
   "id": "81bc92e8",
   "metadata": {},
   "outputs": [],
   "source": [
    "def add(a, b):\n",
    "    return a+b"
   ]
  },
  {
   "cell_type": "code",
   "execution_count": 5,
   "id": "9dd8d762",
   "metadata": {},
   "outputs": [
    {
     "data": {
      "text/plain": [
       "8"
      ]
     },
     "execution_count": 5,
     "metadata": {},
     "output_type": "execute_result"
    }
   ],
   "source": [
    "add(3, 5)"
   ]
  },
  {
   "cell_type": "code",
   "execution_count": 8,
   "id": "eb408010",
   "metadata": {},
   "outputs": [
    {
     "name": "stdout",
     "output_type": "stream",
     "text": [
      "홀수\n"
     ]
    }
   ],
   "source": [
    "# a=['홀수', '짝수']\n",
    "# if '홀수' in a:\n",
    "#     [1, 3, 5, 7, 9]\n",
    "# else: print('홀수')\n",
    "\n",
    "# if '짝수' in a:\n",
    "#     [2, 4, 6, 8, 10]\n",
    "# else: print('짝수')\n",
    "\n",
    "user_input = input()\n",
    "if int(user_input) % 2 == 0:\n",
    "    print('짝수')\n",
    "else:\n",
    "    print('홀수')"
   ]
  },
  {
   "cell_type": "code",
   "execution_count": 20,
   "id": "c772a377",
   "metadata": {},
   "outputs": [],
   "source": [
    "user_input = input()\n",
    "if int(user_input) + 20 == (user_input) >= 255:\n",
    "    print(\"225\")"
   ]
  },
  {
   "cell_type": "code",
   "execution_count": null,
   "id": "aa1ba7b6",
   "metadata": {},
   "outputs": [],
   "source": []
  }
 ],
 "metadata": {
  "kernelspec": {
   "display_name": "Python 3 (ipykernel)",
   "language": "python",
   "name": "python3"
  },
  "language_info": {
   "codemirror_mode": {
    "name": "ipython",
    "version": 3
   },
   "file_extension": ".py",
   "mimetype": "text/x-python",
   "name": "python",
   "nbconvert_exporter": "python",
   "pygments_lexer": "ipython3",
   "version": "3.11.9"
  }
 },
 "nbformat": 4,
 "nbformat_minor": 5
}
