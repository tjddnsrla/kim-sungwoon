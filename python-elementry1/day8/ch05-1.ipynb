{
 "cells": [
  {
   "cell_type": "code",
   "execution_count": 72,
   "metadata": {},
   "outputs": [
    {
     "name": "stdout",
     "output_type": "stream",
     "text": [
      "3\n",
      "7\n",
      "3\n",
      "10\n"
     ]
    }
   ],
   "source": [
    "# Calculator클래스 생성\n",
    "class Calculator:\n",
    "    def __init__(self):     # 생성자(변수를 초기화)와 비슷한 역할\n",
    "        self.result = 0     # result변수를 0으로 초기화\n",
    "\n",
    "    def add(self, num):     # add 일반함수\n",
    "        self.result = self.result + num\n",
    "        return self.result\n",
    "    \n",
    "    def sub(self, num):     # sub 일반함수\n",
    "        self.result = self.result - num\n",
    "        return self.result\n",
    "    \n",
    "cal1 = Calculator()  # 객체 생성(실제 붕어빵)하여 cal1변수에 대입\n",
    "cal2 = Calculator()  # 객체 생성(실제 붕어빵)하여 cal2변수에 대입\n",
    "cal3 = Calculator()\n",
    "cal4 = Calculator()\n",
    "cal5 = Calculator()\n",
    "\n",
    "a = cal1.add(3) # 0 + 3 -> 3 class Calculator안에 있는 add함수를 호출\n",
    "print(a)        # 3\n",
    "a = cal1.add(4) # 3 + 4 -> 7\n",
    "print(a)        # 7\n",
    "a = cal2.add(3) # 0 + 3 -> 3 class Calculator안에 있는 add함수를 호출\n",
    "print(a)        # 3\n",
    "a = cal2.add(7) # 3 + 7 -> 10\n",
    "print(a)        # 10"
   ]
  },
  {
   "cell_type": "code",
   "execution_count": 14,
   "metadata": {},
   "outputs": [
    {
     "ename": "TypeError",
     "evalue": "FourCal.__init__() missing 2 required positional arguments: 'first' and 'second'",
     "output_type": "error",
     "traceback": [
      "\u001b[1;31m---------------------------------------------------------------------------\u001b[0m",
      "\u001b[1;31mTypeError\u001b[0m                                 Traceback (most recent call last)",
      "Cell \u001b[1;32mIn[14], line 28\u001b[0m\n\u001b[0;32m     25\u001b[0m         result \u001b[38;5;241m=\u001b[39m \u001b[38;5;28mself\u001b[39m\u001b[38;5;241m.\u001b[39mfirst \u001b[38;5;241m/\u001b[39m \u001b[38;5;28mself\u001b[39m\u001b[38;5;241m.\u001b[39msecond\n\u001b[0;32m     26\u001b[0m         \u001b[38;5;28;01mreturn\u001b[39;00m result\n\u001b[1;32m---> 28\u001b[0m a \u001b[38;5;241m=\u001b[39m \u001b[43mFourCal\u001b[49m\u001b[43m(\u001b[49m\u001b[43m)\u001b[49m\n\u001b[0;32m     29\u001b[0m \u001b[38;5;28mprint\u001b[39m(\u001b[38;5;28mtype\u001b[39m(a)) \n\u001b[0;32m     31\u001b[0m a\u001b[38;5;241m.\u001b[39msetdata(\u001b[38;5;241m4\u001b[39m, \u001b[38;5;241m2\u001b[39m)\n",
      "\u001b[1;31mTypeError\u001b[0m: FourCal.__init__() missing 2 required positional arguments: 'first' and 'second'"
     ]
    }
   ],
   "source": [
    "class FourCal():\n",
    "    # 메소드들의 생성 순서는 상관의 없다.\n",
    "    def __init__(self, first, second):  # 생성자\n",
    "        self.first = first\n",
    "        self.second = second\n",
    "\n",
    "\n",
    "    def setdata(self, first, second):\n",
    "        self.first = first       # self는 javascript의 this와 비슷하다\n",
    "        self.second = second\n",
    "\n",
    "    def add(self):\n",
    "        result = self.first + self.second\n",
    "        return result\n",
    "\n",
    "    def sub(self):\n",
    "        result = self.first - self.second\n",
    "        return result\n",
    "\n",
    "    def mul(self):\n",
    "        result = self.first * self.second\n",
    "        return result\n",
    "\n",
    "    def div(self):\n",
    "        result = self.first / self.second\n",
    "        return result\n",
    "    \n",
    "a = FourCal()\n",
    "print(type(a)) \n",
    "\n",
    "a.setdata(4, 2)\n",
    "print('a.first', a.first)         # 4\n",
    "print('a.second', a.second)\n",
    "FourCal.setdata(a, 4, 2)\n",
    "\n",
    "b = FourCal()\n",
    "b.setdata(3, 7)\n",
    "print('b.first', b.first)       # 3\n",
    "print('a.first', a.first)       # 4\n",
    "\n",
    "print(a.add())\n",
    "print(a.mul())\n",
    "print(a.sub())\n",
    "print(a.div())"
   ]
  },
  {
   "cell_type": "code",
   "execution_count": 11,
   "metadata": {},
   "outputs": [
    {
     "name": "stdout",
     "output_type": "stream",
     "text": [
      "4\n",
      "2\n",
      "6\n",
      "2.0\n"
     ]
    }
   ],
   "source": [
    "a = FourCal(4, 2)  # 생성자 __init__함수가 실행됨\n",
    "print(a.first)\n",
    "print(a.second)\n",
    "print(a.add())\n",
    "print(a.div())"
   ]
  },
  {
   "cell_type": "code",
   "execution_count": null,
   "metadata": {},
   "outputs": [],
   "source": []
  }
 ],
 "metadata": {
  "kernelspec": {
   "display_name": "Python 3",
   "language": "python",
   "name": "python3"
  },
  "language_info": {
   "codemirror_mode": {
    "name": "ipython",
    "version": 3
   },
   "file_extension": ".py",
   "mimetype": "text/x-python",
   "name": "python",
   "nbconvert_exporter": "python",
   "pygments_lexer": "ipython3",
   "version": "3.11.9"
  }
 },
 "nbformat": 4,
 "nbformat_minor": 2
}
