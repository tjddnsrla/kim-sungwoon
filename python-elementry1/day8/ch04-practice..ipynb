{
 "cells": [
  {
   "cell_type": "code",
   "execution_count": 2,
   "metadata": {},
   "outputs": [
    {
     "name": "stdout",
     "output_type": "stream",
     "text": [
      "Life is too short\n"
     ]
    }
   ],
   "source": [
    "# 문제1\n",
    "# 다음은 파일(test1.txt)에 \"Life is too short\"문자열을 저장한 후\n",
    "# 다시 그 파일을 읽어 출력하는 프로그램이다.\n",
    "f1 = open(\"test1.txt\", 'w')\n",
    "f1.write(\"Life is too short\")\n",
    "f1.close()\n",
    "\n",
    "f2 = open(\"test1.txt\", 'r')\n",
    "print(f2.read())\n",
    "f2.close()\n",
    "# 위 프로그램은 우리가 예상한 'Life is too short'라는 문장을 출력하지 않는다.\n",
    "# 우리가 예상한 값을 출력할 수 있도록 프로그램을 수정하시오."
   ]
  },
  {
   "cell_type": "code",
   "execution_count": 3,
   "metadata": {},
   "outputs": [],
   "source": [
    "# 문제2\n",
    "# 사용자의 입력을 파일(test2.txt)에 저장하는 프로그램을 작성해 보자\n",
    "# 단, 프로그램을 다시 실행하더라도 기존에 작성한 내용을 유지하고 \n",
    "# 새로 입력한 내용을 추가해야 한다.\n",
    "\n",
    "user_input = input(\"저장할 내용을 입력하세요:\")\n",
    "f = open('test2.txt', \"a\")  # <- 빈칸을 채우시오\n",
    "f.write(user_input)\n",
    "f.write(\"\\n\") # <- 입력한 내용을 줄 단위로 구분하기 위해 줄 바꿈 문자 삽입하는 코드로 채우시오\n",
    "f.close()"
   ]
  },
  {
   "cell_type": "code",
   "execution_count": 4,
   "metadata": {},
   "outputs": [],
   "source": [
    "# 문제3\n",
    "# 아래와 같은 내용을 지닌 test3.txt파일이 있다. \n",
    "# ==================\n",
    "# Life is too short\n",
    "# you need pjava\n",
    "# ==================\n",
    "# 이 파일의 내용 중 \"java\"라는 문자열을 \"python\"으로 바꾸어 저장하는 코드를 작성하시오\n",
    "f = open('test3.txt', 'r')\n",
    "# 코드작성\n",
    "# Hint: replace함수 이용\n",
    "body = f.read()\n",
    "f.close()\n",
    "\n",
    "body = body.replace(\"java\", \"python\")\n",
    "\n",
    "f = open('test3.txt', 'w')\n",
    "f.write(body)\n",
    "f.close()\n"
   ]
  },
  {
   "cell_type": "code",
   "execution_count": 1,
   "metadata": {},
   "outputs": [
    {
     "name": "stdout",
     "output_type": "stream",
     "text": [
      "1\n"
     ]
    }
   ],
   "source": [
    "# 문제4\n",
    "# 아래와 같이 실행할 때 입력값을 모두 더해 출력하는 스크립트\n",
    "# myargv.py 파일을 작성하시오\n",
    "# ex) python myargv.py 1 2 3 4 5 6 7 8 9 10  엔터\n",
    "#     55\n",
    "# Hint: 입력받은 문자를 int()함수 이용해서 더하기\n",
    "\n",
    "import sys\n",
    "\n",
    "args = sys.argv[:1]\n",
    "result = 0\n",
    "\n",
    "for arg in  args:    # i는 타입이 str\n",
    "    result = result + int(1)\n",
    "\n",
    "print(result) "
   ]
  },
  {
   "cell_type": "code",
   "execution_count": 7,
   "metadata": {},
   "outputs": [
    {
     "name": "stdout",
     "output_type": "stream",
     "text": [
      "[1, 2, 4, 5]\n"
     ]
    }
   ],
   "source": [
    "array1 = [5,1,2,4]\n",
    "array1.sort()\n",
    "print(array1)"
   ]
  },
  {
   "cell_type": "code",
   "execution_count": null,
   "metadata": {},
   "outputs": [],
   "source": []
  }
 ],
 "metadata": {
  "kernelspec": {
   "display_name": "base",
   "language": "python",
   "name": "python3"
  },
  "language_info": {
   "codemirror_mode": {
    "name": "ipython",
    "version": 3
   },
   "file_extension": ".py",
   "mimetype": "text/x-python",
   "name": "python",
   "nbconvert_exporter": "python",
   "pygments_lexer": "ipython3",
   "version": "3.11.9"
  }
 },
 "nbformat": 4,
 "nbformat_minor": 2
}
