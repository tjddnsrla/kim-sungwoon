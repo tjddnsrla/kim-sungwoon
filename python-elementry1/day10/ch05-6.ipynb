{
 "cells": [
  {
   "cell_type": "code",
   "execution_count": 3,
   "metadata": {},
   "outputs": [
    {
     "name": "stdout",
     "output_type": "stream",
     "text": [
      "477\n",
      "<built-in method total_seconds of datetime.timedelta object at 0x0000022EA2ACE010>\n",
      "weekday3 1\n",
      "weekday4 0\n",
      "weekday5 6\n",
      "['__add__', '__class__', '__delattr__', '__dir__', '__doc__', '__eq__', '__format__', '__ge__', '__getattribute__', '__getstate__', '__gt__', '__hash__', '__init__', '__init_subclass__', '__le__', '__lt__', '__ne__', '__new__', '__radd__', '__reduce__', '__reduce_ex__', '__repr__', '__rsub__', '__setattr__', '__sizeof__', '__str__', '__sub__', '__subclasshook__', 'ctime', 'day', 'fromisocalendar', 'fromisoformat', 'fromordinal', 'fromtimestamp', 'isocalendar', 'isoformat', 'isoweekday', 'max', 'min', 'month', 'replace', 'resolution', 'strftime', 'timetuple', 'today', 'toordinal', 'weekday', 'year']\n",
      "['__abs__', '__add__', '__bool__', '__class__', '__delattr__', '__dir__', '__divmod__', '__doc__', '__eq__', '__floordiv__', '__format__', '__ge__', '__getattribute__', '__getstate__', '__gt__', '__hash__', '__init__', '__init_subclass__', '__le__', '__lt__', '__mod__', '__mul__', '__ne__', '__neg__', '__new__', '__pos__', '__radd__', '__rdivmod__', '__reduce__', '__reduce_ex__', '__repr__', '__rfloordiv__', '__rmod__', '__rmul__', '__rsub__', '__rtruediv__', '__setattr__', '__sizeof__', '__str__', '__sub__', '__subclasshook__', '__truediv__', 'days', 'max', 'microseconds', 'min', 'resolution', 'seconds', 'total_seconds']\n"
     ]
    }
   ],
   "source": [
    "# datetime.date는 연, 월, 일로 날짜를 표현할 떼 사용하는 \n",
    "\n",
    "import datetime\n",
    "\n",
    "day1 = datetime.date(2021, 12, 14)\n",
    "day2 = datetime.date(2023, 4, 5)\n",
    "\n",
    "day3 = datetime.date(2024, 5, 21)\n",
    "day4 = datetime.date(2024, 5, 20)\n",
    "day5 = datetime.date(2024, 5, 19)\n",
    "\n",
    "diff = day2 -day1 \n",
    "print(diff.days)              # 일(day) 단위\n",
    "print(diff. total_seconds)    # 초(second) 단위\n",
    "\n",
    "print('weekday3', day3.weekday()) # 0 ~ 6 -> Monday, 1: Tuesdat ...\n",
    "print('weekday4', day4.weekday()) \n",
    "print('weekday5', day5.weekday()) \n",
    "print(dir(day1)) \n",
    "print(dir(diff)) \n",
    " \n",
    "       "
   ]
  },
  {
   "cell_type": "code",
   "execution_count": 7,
   "metadata": {},
   "outputs": [
    {
     "name": "stdout",
     "output_type": "stream",
     "text": [
      "1716273670.8760526\n",
      "time.struct_time(tm_year=2024, tm_mon=5, tm_mday=21, tm_hour=15, tm_min=41, tm_sec=10, tm_wday=1, tm_yday=142, tm_isdst=0)\n",
      "Tue May 21 15:41:10 2024\n"
     ]
    }
   ],
   "source": [
    "import time \n",
    "\n",
    "print(time.time()) # 현재시간 - (1970 1월 1일 0시 0분 0초 기준)\n",
    "print(time.localtime(time.time())) \n",
    "print(time.asctime(time.localtime(time.time())))"
   ]
  },
  {
   "cell_type": "code",
   "execution_count": null,
   "metadata": {},
   "outputs": [],
   "source": []
  }
 ],
 "metadata": {
  "kernelspec": {
   "display_name": "base",
   "language": "python",
   "name": "python3"
  },
  "language_info": {
   "codemirror_mode": {
    "name": "ipython",
    "version": 3
   },
   "file_extension": ".py",
   "mimetype": "text/x-python",
   "name": "python",
   "nbconvert_exporter": "python",
   "pygments_lexer": "ipython3",
   "version": "3.11.7"
  }
 },
 "nbformat": 4,
 "nbformat_minor": 2
}
