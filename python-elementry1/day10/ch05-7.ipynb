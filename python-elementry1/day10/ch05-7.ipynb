{
 "cells": [
  {
   "cell_type": "code",
   "execution_count": 4,
   "metadata": {},
   "outputs": [
    {
     "name": "stdout",
     "output_type": "stream",
     "text": [
      "Scott Fowler\n"
     ]
    }
   ],
   "source": [
    "# 외부 라이브러리 Faker 사용해보기\n",
    "# 사전 작업 -> pip install Faker # 외부 라이브러리 Faker 설치 \n",
    "\n",
    "from faker import Faker\n",
    " \n",
    "fake = Faker()\n",
    "print(fake.name()) "
   ]
  },
  {
   "cell_type": "code",
   "execution_count": 3,
   "metadata": {},
   "outputs": [
    {
     "name": "stdout",
     "output_type": "stream",
     "text": [
      "이예진\n",
      "울산광역시 북구 서초중앙26로 (정식이박마을)\n"
     ]
    }
   ],
   "source": [
    "fake = Faker('ko-kR') \n",
    "print(fake.name())\n",
    "print(fake.address()) "
   ]
  }
 ],
 "metadata": {
  "kernelspec": {
   "display_name": "base",
   "language": "python",
   "name": "python3"
  },
  "language_info": {
   "codemirror_mode": {
    "name": "ipython",
    "version": 3
   },
   "file_extension": ".py",
   "mimetype": "text/x-python",
   "name": "python",
   "nbconvert_exporter": "python",
   "pygments_lexer": "ipython3",
   "version": "3.11.7"
  }
 },
 "nbformat": 4,
 "nbformat_minor": 2
}
